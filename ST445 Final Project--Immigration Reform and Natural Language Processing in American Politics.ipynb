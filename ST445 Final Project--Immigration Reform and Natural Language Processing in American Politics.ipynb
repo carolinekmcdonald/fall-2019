{
 "cells": [
  {
   "cell_type": "markdown",
   "metadata": {},
   "source": [
    "# ST 445 Final Project\n",
    "## Analysis of American Political Discourse using Twitter Data and Natural Language Processing\n",
    "### Candidate Number: 41294"
   ]
  },
  {
   "cell_type": "markdown",
   "metadata": {},
   "source": [
    "## Part 1: Introduction\n",
    "\n",
    "The United States, much like the world at large, is going through a particularly divisive time in its history. It feels as though every headline heralds bad news that will make someone in our community enraged or despondent. With this bleak perceived reality, I sought to determine whether there is any sign of intercommunication or shared concern between Americans of different backgrounds, as well as the tone of their discussions, using data from public Twitter accounts with respect to political topics.\n",
    "\n",
    "While there are many possible topics that could be observed, I chose #ImmigrationReform as I thought it was a more neutral hashtag--with users who identify both as Republican and Democrat--compared to one that concerned #ImpeachTrump or #Trump2020 which would likely have a bias towards one political party over another. As one of the goals of this study is to see discussions by people from different backgrounds, using a topic that unconsciously subsets the population according to political beliefs undermines the original purpose.\n",
    "\n",
    "Additionally, while this project was being developed, the President of the United States was formally impeached. As the Twitter data was being scraped at this time, I thought the event presented an interesting opportunity to examine the tone of the official response by both the Republican Party or GOP (the party of the sitting President), and the Democratic Party (the party that has been pushing for his impeachment). Thus, as an additional component of examining the tone of political discourse, I examined the polarity of the GOP and Democrat official tweets on the day of impeachment using natural language processing."
   ]
  },
  {
   "cell_type": "markdown",
   "metadata": {},
   "source": [
    "### 1.1) Objectives\n",
    "\n",
    "As such, the objectives for the study are as follows:\n",
    "* Use the geotagged user data for #ImmigrationReform to analyze which locations are most concerned with, or at least discussing, this political topic. Additionally, whether the conversation mainly involves a similar region, or whether different parts of the country are involved in this national discussion. \n",
    "* Analyze the tone of the #ImmigrationReform discussion to determine whether it is a political topic that has been either positively or negatively charged in terms of its conversation among average Americans.\n",
    "* Analyze the tone of the GOP and Democrat response to the impeachment news on December 18th, 2019 in order to study whether the two parties are diametrically opposed to one another with respect to this seemingly highly polarized issue."
   ]
  },
  {
   "cell_type": "markdown",
   "metadata": {},
   "source": [
    "### 1.2) Background on Data\n",
    "\n",
    "The data for this project was directly scraped from Twitter using the Twitter API, with unique credentials contained in the twitter_credentials.json file. As Twitter allows geotagging of tweets while also filtering for specific hashtags or phrases, this data seemed most appropriate for gaining an understanding of whether different regions participate in the #ImmigrationReform debate. Additionally, as Twitter itself is a platform for communication and messaging, its data clearly provided a direct source of discussion between Americans that allows for natural language processing--specifically sentiment analysis--on various subjects. \n",
    "\n"
   ]
  },
  {
   "cell_type": "markdown",
   "metadata": {},
   "source": [
    "## Part 2: Data"
   ]
  },
  {
   "cell_type": "markdown",
   "metadata": {},
   "source": [
    "### 2.1) Dataset for #ImmigrationReform Analysis\n",
    "\n",
    "The final dataset for #ImmigrationReform was made up of roughly 130 observations, saved in the #ImmigrationReform_location_tweets.csv. Only original tweets were used, no retweets, and the location variable was determined from the user's account location rather than the geotagged location of the specific tweet referencing #ImmigrationReform. This was done as a relatively small number of Twitter users tag their geographic location for a single tweet; this, pared with access to only 1% of Twitter data through their API, gives only a small number of observations relevant to my search terms (sometimes only one result/tweet over several days). However, using the location assigned at the user profile does not run into this scarcity problem, and thus allowed me to build a larger dataset.\n",
    "\n",
    "As such, the #ImmigrationReform data had columns for the text (original message), location, latitude, longitude and the general geographic region (which was added by hand) in the US the location falls in for all 130 observations."
   ]
  },
  {
   "cell_type": "markdown",
   "metadata": {},
   "source": [
    "### 2.2) Scraping the Twitter Data with Respect to #ImmigrationReform"
   ]
  },
  {
   "cell_type": "code",
   "execution_count": 1,
   "metadata": {},
   "outputs": [],
   "source": [
    "#importing packages\n",
    "import tweepy\n",
    "import json\n",
    "import twitter\n",
    "import twython\n",
    "import csv\n",
    "import pandas as pd\n",
    "import gmaps\n",
    "from shapely.geometry import Point, Polygon\n",
    "import matplotlib.pyplot as plt\n",
    "import pandas as pd\n",
    "import folium\n",
    "from folium import plugins\n",
    "import warnings\n",
    "\n",
    "#natural language processing of the tweets\n",
    "from textblob import TextBlob\n",
    "\n",
    "import plotly.graph_objects as go\n",
    "\n",
    "import geoplot as gplt\n",
    "import geoplot.crs as gcrs\n",
    "\n",
    "#import package to transform tweets into vectors\n",
    "from sklearn.feature_extraction.text import TfidfVectorizer\n",
    "from sklearn.metrics.pairwise import cosine_similarity\n",
    "\n"
   ]
  },
  {
   "cell_type": "code",
   "execution_count": 2,
   "metadata": {},
   "outputs": [],
   "source": [
    "# Load credentials from json file\n",
    "with open(\"twitter_credentials.json\", \"r\") as file:\n",
    "    creds = json.load(file)\n",
    "\n",
    "# Instantiate an object using tweepy for later list comprehension search\n",
    "auth = tweepy.OAuthHandler(creds['CONSUMER_KEY'], creds['CONSUMER_SECRET'])\n",
    "auth.set_access_token(creds['ACCESS_TOKEN'], creds['ACCESS_SECRET'])\n",
    "api = tweepy.API(auth, wait_on_rate_limit=True)\n"
   ]
  },
  {
   "cell_type": "code",
   "execution_count": 3,
   "metadata": {},
   "outputs": [],
   "source": [
    "#scraping 100 (non re)tweets with #ImmigrationReform\n",
    "tweets = tweepy.Cursor(api.search, \n",
    "                           q='#ImmigrationReform -filter:retweets',\n",
    "                           lang=\"en\"\n",
    "                           ).items(100)\n"
   ]
  },
  {
   "cell_type": "markdown",
   "metadata": {},
   "source": [
    "The above code searches Twitter for up to 100 original tweets with #ImmigrationReform in its text, using the API credentials inputed from the json file."
   ]
  },
  {
   "cell_type": "markdown",
   "metadata": {},
   "source": [
    "### 2.3) Saving and Cleaning the Twitter GeoData"
   ]
  },
  {
   "cell_type": "code",
   "execution_count": 4,
   "metadata": {},
   "outputs": [
    {
     "data": {
      "text/plain": [
       "[[b'@greg06897 @DanRiffle And they can\\xe2\\x80\\x99t wrap their head around the fact that the US is failing it\\xe2\\x80\\x99s citizens! \\n\\nIssues\\xe2\\x80\\xa6 https://t.co/gDKN4VeIsc',\n",
       "  '🌎'],\n",
       " [b'@CANCEL_SAM Poor out-of-touch @HardballChris thinks Bernie won\\xe2\\x80\\x99t be POTUS... well Chris, MILLIONS of us have news f\\xe2\\x80\\xa6 https://t.co/LtzyHyybNy',\n",
       "  '🌎'],\n",
       " [b'@MaggieRT1 @thehill @BernieSanders I don\\xe2\\x80\\x99t know what school you attended, but it failed you. You don\\xe2\\x80\\x99t know the def\\xe2\\x80\\xa6 https://t.co/9wYg63O5BI',\n",
       "  '🌎'],\n",
       " [b'@TimHannan @MyDogNose Want REAL vengeance?  #VoteBlueNoMatterWho #VoteBlueToSaveAmerica from the #Fascist\\xe2\\x80\\xa6 https://t.co/mID0QzhCXM',\n",
       "  'USA'],\n",
       " [b'Court says immigrants don\\xe2\\x80\\x99t forfeit appeals when they\\xe2\\x80\\x99re deported\\nhttps://t.co/4KY9Yqrksf\\n\\n#diasporalaw\\xe2\\x80\\xa6 https://t.co/ctrz0DnmTT',\n",
       "  'Lancaster, PA'],\n",
       " [b\"If you have unpaid tickets the state you live in can suspend your Driver's Licence making it hard for you to get to\\xe2\\x80\\xa6 https://t.co/fGFLEfaP0i\",\n",
       "  'Maricopa, AZ'],\n",
       " [b'Are being detained and caged. No child should be treated this way. That\\xe2\\x80\\x99s the message we\\xe2\\x80\\x99re sending to America. So\\xe2\\x80\\xa6 https://t.co/6wD7x73hOc',\n",
       "  'Atlanta, GA'],\n",
       " [b'Migration Advisory Committe (MAC) makes recommendations for UK #Immigration system\\nRead story here:\\xe2\\x80\\xa6 https://t.co/XsS5fopIve',\n",
       "  'London, England'],\n",
       " [b'@ananavarro Sure if they come here legally...\\nThe issue is illegal immigration and associated costs to #taxpayers\\xe2\\x80\\xa6 https://t.co/oVZPcMMskM',\n",
       "  'Ventura Co. CA. USA'],\n",
       " [b'@richiecruz I was hoping they would make a political statement and I think they did. Proud of them!\\xe2\\x80\\xa6 https://t.co/e1IcLvhdPQ',\n",
       "  'Brooklyn, NY'],\n",
       " [b\"If your house is on fire, you don't invite people to come live with you. Immigration reform is important, but let's\\xe2\\x80\\xa6 https://t.co/crFwNNfolt\",\n",
       "  'Austin, TX'],\n",
       " [b'#BernieBeatsTrump and @BernieSanders will fight for all of us because he\\xe2\\x80\\x99s always been one of us. #Bernie4Iowa\\xe2\\x80\\xa6 https://t.co/Vhnf76k8zF',\n",
       "  'RunBernieRun Following'],\n",
       " [b'@TrumpStudents @realDonaldTrump The #UnitedStatesOfAmerica \\nWill Rise Once Again \\xf0\\x9f\\x87\\xba\\xf0\\x9f\\x87\\xb8\\xf0\\x9f\\x8c\\x90\\xf0\\x9f\\x8f\\xa6\\xf0\\x9f\\x92\\xb9\\xf0\\x9f\\x93\\x88\\xf0\\x9f\\x93\\x8a \\n#MAGA \\n#KAG \\n#TrumpEra\\xe2\\x80\\xa6 https://t.co/1lj1Dh9bSs',\n",
       "  'Columbia County, WI'],\n",
       " [b'@realDonaldTrump PLEASE PLEASE PLEASE .......BUILD THE WALL!!!\\n#BuildTheWall #Immigrationreform  #IllegalAliens https://t.co/LDWV0h28lK',\n",
       "  'Annapolis, MD'],\n",
       " [b\"@ryanobles @janeosanders @BernieSanders I'm 73 and support #Bernie2020 would like to hear about his grandkids and s\\xe2\\x80\\xa6 https://t.co/tRRbXTljzl\",\n",
       "  'Comonwealth of  Dominica'],\n",
       " [b'@NoFascistLies I don\\xe2\\x80\\x99t understand. You mean some people think politicians don\\xe2\\x80\\x99t need to EARN YOUR VOTE? \\nThat\\xe2\\x80\\x99s cra\\xe2\\x80\\xa6 https://t.co/circCjGz74',\n",
       "  '🌎'],\n",
       " [b'@mayrar143143 @DailyCaller @monica4congress Proud of her! I\\xe2\\x80\\x99ll promote ALL congresswomen &amp; congressmen running to t\\xe2\\x80\\xa6 https://t.co/a8EvVNxFXt',\n",
       "  'Illinois, USA'],\n",
       " [b\"If your house is on fire, you don't invite people to come live with you. Immigration reform is important, but let's\\xe2\\x80\\xa6 https://t.co/Haf08L3l48\",\n",
       "  'Austin, TX'],\n",
       " [b\"This sycophant keeps one eye on Trump's twitter feed, and the other... well. Votes 93% with Russia. He'll praise an\\xe2\\x80\\xa6 https://t.co/MJXT2OwVdx\",\n",
       "  'Western United States'],\n",
       " [b'#ImmigrationReform. @HouseDemocrats will never agree to do anything. Vote all Dems out in Nov. @FAIRImmigration https://t.co/ipFr6IP576',\n",
       "  'Jensen Beach, FL'],\n",
       " [b'What she said.\\nNow... back to #MedicareForAll #GreenNewDeal #RacialJustice #ImmigrationReform #FairTaxation\\xe2\\x80\\xa6 https://t.co/xXTTgMxjMU',\n",
       "  'Snitty heckler, balcony, back row.'],\n",
       " [b'#AntiFa and Democrat pols seem to be trying to finish what radical Islamic terrorists started on 9/11 - the destruc\\xe2\\x80\\xa6 https://t.co/4fITLArgXE',\n",
       "  \"Don't Mess With Texas\"],\n",
       " [b'@CaseStudyQB @MMFlint This is fantastic. Thank you, @MMFlint for all of the beautiful work that you are doing for B\\xe2\\x80\\xa6 https://t.co/pKufxJFFKu',\n",
       "  'SF Bay Area'],\n",
       " [b'@JoeBiden Biden brings nothing to the table at a time when there are so many issues that need resolution, Biden off\\xe2\\x80\\xa6 https://t.co/5W8xHfuYcP',\n",
       "  '🌎'],\n",
       " [b\"If your house is on fire, you don't invite people to come live with you. Immigration reform is important, but let's\\xe2\\x80\\xa6 https://t.co/XQuxSTvGaD\",\n",
       "  'Austin, TX'],\n",
       " [b'@thebradfordfile I\\xe2\\x80\\x99ll raise my hand for NO parties. Run on policies.\\n\\nI don\\xe2\\x80\\x99t care if you\\xe2\\x80\\x99re a #Rep or a #Dem if yo\\xe2\\x80\\xa6 https://t.co/RQoAWhIvSq',\n",
       "  'Bizzaro Land'],\n",
       " [b'Immigration judges association calls for independence from DOJ #ImmigrationReform https://t.co/J3cHMIAiRB',\n",
       "  '#GeeksResist HQ'],\n",
       " [b'@TheKingDude @SenSchumer @chucktodd @realDonaldTrump @marcorubio @marklevinshow Our country has prospered despite D\\xe2\\x80\\xa6 https://t.co/o2bzmPa83U',\n",
       "  'Southwest Florida'],\n",
       " [b'The most likely scenario: #ReformedReform with the goal of achieving greater #EU harmonisation. \\n\\nThe team notes: r\\xe2\\x80\\xa6 https://t.co/dZWQLqKEay',\n",
       "  'LSE/London/Europe!'],\n",
       " [b'Jean Bruggeman of @FreedomNetUSA noted that a $13.5 mil grant to provide housing to #trafficking victims was held u\\xe2\\x80\\xa6 https://t.co/hbbhiILUDd',\n",
       "  'Andover, MA - USA'],\n",
       " [b'Why Africans &amp; Afro-Caribbean People Change When They Come to America https://t.co/QXzNmErIP2 via @YouTube\\xe2\\x80\\xa6 https://t.co/8wGgiPMDiH',\n",
       "  'Atlanta, GA'],\n",
       " [b'The reason is because TEXAS HAS BEEN FLOODED WITH ILLEGALS FROM HERE SINCE OCTOBER!!\\n#travelban #Travel\\xe2\\x80\\xa6 https://t.co/aSlnRLswQE',\n",
       "  'Houston, TX'],\n",
       " [b\"@anandmahindra Don't be surprised sir what's coming next in #Britain &amp; #EuropeanUnion \\n Decade 2020 -30 follow as\\xe2\\x80\\xa6 https://t.co/I7lRrp4HmY\",\n",
       "  'New Delhi, India'],\n",
       " [b\"If your house is on fire, you don't invite people to come live with you. Immigration reform is important, but let's\\xe2\\x80\\xa6 https://t.co/rjbUYcLulE\",\n",
       "  'Austin, TX'],\n",
       " [b'#HumanTrafficking is a major problem. Recently, I had the chance to report on what actually happens to migrants mak\\xe2\\x80\\xa6 https://t.co/4gpi2VqWla',\n",
       "  'Corpus Christi, TX'],\n",
       " [b\"@Acosta I don't care about Trump anymore.  I don't want to hear about him.   Let's focus on the #IowaCaucus\\xe2\\x80\\xa6 https://t.co/mhlqfIF4K3\",\n",
       "  'Texas.. The Lone Star State'],\n",
       " [b'Is this \\xf0\\x9f\\x91\\x87redundant? #ImmigrantRights #ImmigrationReform https://t.co/xJ1ODnnRp3 https://t.co/iBJSSXVVxJ',\n",
       "  'Global Citizen'],\n",
       " [b'Will you #GiveVoice to the voiceless of this country and speak out on #ImmigrationReform ? https://t.co/zLcdQ6ZdXX\\xc2\\xa0\\xe2\\x80\\xa6 https://t.co/X98dSpoGGo',\n",
       "  'Ashland, Oregon USA'],\n",
       " [b\"It's not like we break our promises. Just ask the Kurds.\\n\\n#ImmigrationReform\\n#DACA\\n#KeepOurPromises\\n\\n#OneVoice1\\nhttps://t.co/jws0IK2SaP\",\n",
       "  \"Jacksonville, FL  'Avondale'\"],\n",
       " [b\"If your house is on fire, you don't invite people to come live with you. Immigration reform is important, but let's\\xe2\\x80\\xa6 https://t.co/sCQ06hUyau\",\n",
       "  'Austin, TX'],\n",
       " [b'One of the Most Obscure Green Card Categories: Abused Parents of U.S. Citizens\\nhttps://t.co/ljsvk0LaIE\\xe2\\x80\\xa6 https://t.co/uJZyThhva0',\n",
       "  'Lancaster, PA'],\n",
       " [b'There\\'s a massive difference between \"working with Republicans\" and \"working with people who vote Republican\". Peop\\xe2\\x80\\xa6 https://t.co/dUX0jeON37',\n",
       "  'London, Europe'],\n",
       " [b'Oh really? While you are pissing around w/your partisan shitshow &amp; pretending this was ever going to have any other\\xe2\\x80\\xa6 https://t.co/3ctjagV8St',\n",
       "  'PNW, USA'],\n",
       " [b\"@KennethBaer @RonaldKlain @JoeBiden We *weren't* all Democrats. But progressives are taking over the party because\\xe2\\x80\\xa6 https://t.co/d8HNz8Axne\",\n",
       "  'Florida, USA'],\n",
       " [b'@HouseDemocrats\\n#ImmigrationReform \\n#TrumpAdministration \\n#ICE \\n\\nHe was put on a plane from John F. Kennedy Airport\\xe2\\x80\\xa6 https://t.co/LguOYLExrC',\n",
       "  'Michigan, USA'],\n",
       " [b\"If your house is on fire, you don't invite people to come live with you. Immigration reform is important, but let's\\xe2\\x80\\xa6 https://t.co/7esXzZXj0S\",\n",
       "  'Austin, TX'],\n",
       " [b'@geraldsnell95 @robkuehne @minniefirst @LindaSuhler @realDonaldTrump @JudgeJeanine @FoxNews @maddow @MSNBC GOOD. So\\xe2\\x80\\xa6 https://t.co/xVE4OZuty1',\n",
       "  'USA'],\n",
       " [b'@FAIRImmigration Meanwhile the average American struggles with debt. But no skin off the noses of our deep state co\\xe2\\x80\\xa6 https://t.co/eXXtKVi3ZC',\n",
       "  'United States'],\n",
       " [b'#mpp in Matamoros. This is today in an encampment along the river where about 3k refugee migrants lives are stalled\\xe2\\x80\\xa6 https://t.co/xn5mzJZSoW',\n",
       "  'Washington DC • Maryland, USA'],\n",
       " [b'@mikepretzel @Politics_Polls @Harris_X_ @thehill #MedicareForAll #CollegeForAll #HousingForAll #CancelStudentDebt\\xe2\\x80\\xa6 https://t.co/J6kQ0JI7Hz',\n",
       "  'Los Angeles, CA'],\n",
       " [b'\\xf0\\x9f\\x98\\x82\\xf0\\x9f\\x98\\x82\\xf0\\x9f\\x98\\x82\\xf0\\x9f\\x98\\x82\\xf0\\x9f\\x98\\x82\\xf0\\x9f\\x98\\x82\\xf0\\x9f\\x98\\x82\\xf0\\x9f\\x98\\x82\\xf0\\x9f\\x98\\x82\\xf0\\x9f\\x98\\x82\\xf0\\x9f\\x98\\x82\\xf0\\x9f\\x98\\x82\\xf0\\x9f\\x98\\x82\\xf0\\x9f\\x98\\x82\\xf0\\x9f\\x98\\x82\\xf0\\x9f\\x98\\x82\\xf0\\x9f\\x98\\x82\\xf0\\x9f\\x98\\x82\\xf0\\x9f\\x98\\x82\\xf0\\x9f\\x98\\x82\\xf0\\x9f\\x98\\x82\\xf0\\x9f\\x98\\x82\\xf0\\x9f\\x98\\x82\\xf0\\x9f\\x98\\x82\\xf0\\x9f\\x98\\x82\\xf0\\x9f\\x98\\x82\\xf0\\x9f\\x98\\x82\\xf0\\x9f\\x98\\x82\\xf0\\x9f\\x98\\x82\\xf0\\x9f\\x98\\x82\\xf0\\x9f\\x98\\x82\\xf0\\x9f\\x98\\x82\\xf0\\x9f\\x98\\x82\\xf0\\x9f\\x98\\x82\\xf0\\x9f\\x98\\x82\\xf0\\x9f\\x98\\x82\\xf0\\x9f\\x98\\x82\\xf0\\x9f\\x98\\x82\\xf0\\x9f\\x98\\x82\\xf0\\x9f\\x98\\x82\\xf0\\x9f\\x98\\x82\\xf0\\x9f\\x98\\x82\\xf0\\x9f\\x98\\x82\\xf0\\x9f\\x98\\x82\\xf0\\x9f\\x98\\x82\\xf0\\x9f\\x98\\x82\\xf0\\x9f\\x98\\x82\\xf0\\x9f\\x98\\x82\\xf0\\x9f\\x98\\x82\\xf0\\x9f\\x98\\x82\\xf0\\x9f\\x98\\x82\\xf0\\x9f\\x98\\x82\\xf0\\x9f\\x98\\x82\\xf0\\x9f\\x98\\x82\\xf0\\x9f\\x98\\x82\\xf0\\x9f\\x98\\x82\\xf0\\x9f\\x98\\x82\\xf0\\x9f\\x98\\x82\\xf0\\x9f\\x98\\x82\\xf0\\x9f\\x98\\x82\\xf0\\x9f\\x98\\x82\\xf0\\x9f\\x98\\x82\\xf0\\x9f\\x98\\x82\\xf0\\x9f\\x98\\x82\\xf0\\x9f\\x98\\x82\\xf0\\x9f\\x98\\x82\\xf0\\x9f\\x98\\x82\\xf0\\x9f\\x98\\x82 #Borderwall but we do need border safety and r\\xe2\\x80\\xa6 https://t.co/0bqIcxvC8L',\n",
       "  'Global '],\n",
       " [b'While we\\xe2\\x80\\x99re at it #Immigrationreform should really just be about stricter regulations on Californians moving to Texas right @TexasHumor',\n",
       "  'Texas forever'],\n",
       " [b'@SenatorDurbin @SenatorCardin @SenatorLeahy @timkaine @SenJeffMerkley @SenMarkey Lovely. \\n\\nDon\\xe2\\x80\\x99t forget about your\\xe2\\x80\\xa6 https://t.co/7kV7nPnlZu',\n",
       "  'Illinois, USA'],\n",
       " [b\"If your house is on fire, you don't invite people to come live with you. Immigration reform is important, but let's\\xe2\\x80\\xa6 https://t.co/9cwWNKYEja\",\n",
       "  'Austin, TX'],\n",
       " [b'#TrumpAdministration #ImmigrationReform @HHSGov is committing atrocities, has for a long time.\\xe2\\x80\\xa6 https://t.co/AYdeCvAKyI',\n",
       "  'St Louis, MO'],\n",
       " [b'ICE Public Safety Media Briefing  #firearms #tlot #DreamAct #tcot #DrainTheSwamp #SpyGate #BreakingNews #pics\\xe2\\x80\\xa6 https://t.co/iBjBLyiOAr',\n",
       "  'Glens Falls, NY'],\n",
       " [b\"#Impeached @realDonaldTrump \\nAccording to the Nat'l Bureau of Economic Resources, #immigrants pay more in taxes tha\\xe2\\x80\\xa6 https://t.co/cvlbnFISEf\",\n",
       "  'Washington, USA'],\n",
       " [b'\\xe2\\x80\\x9cI\\xe2\\x80\\x99m running to put the \\xe2\\x80\\x9cUnited\\xe2\\x80\\x9d back into the \\xe2\\x80\\x9cUnited States\\xe2\\x80\\x9d!\\xe2\\x80\\x9d Real #immigrationreform, free college for the poor\\xe2\\x80\\xa6 https://t.co/YTY6hVjia2',\n",
       "  'Santa Ana, CA'],\n",
       " [b\"If your house is on fire, you don't invite people to come live with you. Immigration reform is important, but let's\\xe2\\x80\\xa6 https://t.co/fabrTgLwG5\",\n",
       "  'Austin, TX'],\n",
       " [b'@realDonaldTrump @POTUS @VP @senatemajldr @HouseGOP @Sen_JoeManchin @GOPLeader \\n@POTUSPress  @POTUS @VP\\xe2\\x80\\xa6 https://t.co/achy2AASSe',\n",
       "  'Oklahoma, USA'],\n",
       " [b'@realDonaldTrump Thank You @POTUS @VP #SaveMedicare and #PipeLineFamily #Jobs #coalprimesourceofenergy\\xe2\\x80\\xa6 https://t.co/7H6lKDPlTw',\n",
       "  'Oklahoma, USA'],\n",
       " [b'@CindySiegelTX7 It was a requirement that an\\nimmigrant have a sponsor and  job waiting before he/she \\ncould immigra\\xe2\\x80\\xa6 https://t.co/e1QPuSx2UT',\n",
       "  'Texas, USA #BackTheBlue'],\n",
       " [b'#Texas construction company to pay $3 MILLION FINE to #ICE, for UNLAWFULLY HIRING #IllegalAliens.\\xf0\\x9f\\x91\\x8d\\n\\n#BorderCrisis\\xe2\\x80\\xa6 https://t.co/HuCZG1MgiC',\n",
       "  'USA'],\n",
       " [b'@jerrybthebuild @RepValDemings #DFlorida \\nGet Out #FloridaVoters Democrats @DNC Destroy America Wasted Taxpayer Mon\\xe2\\x80\\xa6 https://t.co/flng7IKkjt',\n",
       "  'Oklahoma, USA'],\n",
       " [b'@realDonaldTrump &amp; #Mexico will pay for the wall \\n@lopezobrador_ \\n#MexicoWillPay \\n#BuildTheWall #BuildThatWall\\xe2\\x80\\xa6 https://t.co/V0Ni7xZSaV',\n",
       "  'Columbia County, WI'],\n",
       " [b'Meanwhile at the southern border...\\n    more MS13 members\\n\\n#FinishTheWall #IllegalAliens #ImmigrationReform #crimin https://t.co/seDg8OGhVm',\n",
       "  'Arizona, USA'],\n",
       " [b'@realDonaldTrump &amp; Mexico will pay for the wall \\n@lopezobrador_ \\n#MexicoWillPay \\n#BuildTheWall #BuildThatWall\\xe2\\x80\\xa6 https://t.co/Q2uOzISVN4',\n",
       "  'Columbia County, WI'],\n",
       " [b'I believe better things ARE possible for our country. That\\xe2\\x80\\x99s why I support #BernieSanders2020! \\n\\nAmericans want:\\xe2\\x80\\xa6 https://t.co/rHE1Bh7AGq',\n",
       "  '🌎'],\n",
       " [b'Bernie: Immigration reform: radical?\\nCrowd: \"No!\"\\nCriminal justice reform \\xe2\\x80\\x94 radical?\\nCrowd: \"NO!\"\\nProtecting a woma\\xe2\\x80\\xa6 https://t.co/VYMBs70PCs',\n",
       "  'New York, NY'],\n",
       " [b'@Sen_JoeManchin \\n#opioidepidemic \\n#coalprimesourceofenergy \\nOur  @POTUS is For \\n#AmericaFirst #ProGod #ProLife\\xe2\\x80\\xa6 https://t.co/VOMmsOCyzo',\n",
       "  'Oklahoma, USA'],\n",
       " [b'Meanwhile at the southern border...\\n     child trafficking \\n\\n#FinishTheWall #ImmigrationReform #IllegalAliens\\xe2\\x80\\xa6 https://t.co/X7glRwHKbJ',\n",
       "  'Arizona, USA'],\n",
       " [b'@spauley311 @hickmangina @GOP @SenateGOP @senatemajldr @SpeakerPelosi @RepAdamSchiff @AmbJohnBolton\\xe2\\x80\\xa6 https://t.co/qK0iDCalTJ',\n",
       "  'Oklahoma, USA'],\n",
       " [b'@spauley311 @hickmangina @GOP @SenateGOP @senatemajldr @SpeakerPelosi @RepAdamSchiff @AmbJohnBolton\\xe2\\x80\\xa6 https://t.co/whLlC8eaal',\n",
       "  'Oklahoma, USA'],\n",
       " [b\"Looking Back On Trump Administration's Tough Talk On Immigration\\nhttps://t.co/LGDCncVUxK\\n\\n#diasporalaw #immigration\\xe2\\x80\\xa6 https://t.co/vmwdDaWbwM\",\n",
       "  'Lancaster, PA'],\n",
       " [b'Good start to #ImmigrationReform \\nState Dept. moves to restrict \\xe2\\x80\\x98birth tourism\\xe2\\x80\\x99\\nhttps://t.co/jRXvFDjXgd',\n",
       "  'New Hampshire, USA'],\n",
       " [b\"If your house is on fire, you don't invite people to come live with you. Immigration reform is important, but let's\\xe2\\x80\\xa6 https://t.co/eJdZp8wnUc\",\n",
       "  'Austin, TX'],\n",
       " [b'@jettblk_k @NatetheGrate17 @kfalcone2015 @CarrieDDahl @JohnFugelsang @Ummmmichelle @WombatSocho @ChrisLoesch\\xe2\\x80\\xa6 https://t.co/ipDKYWIK2s',\n",
       "  'USA'],\n",
       " [b'@donlemon The real dummy\\xe2\\x80\\x99s are those that ignore the laws of a sovereign nation and expect a red carpet welcome!!\\xe2\\x80\\xa6 https://t.co/LjPjgp1NXu',\n",
       "  'Washington, USA'],\n",
       " [b'#Impeached @realDonaldTrump \\nThe U.S. needs #immigrants and #ImmigrationReform to reach and maintain a population c\\xe2\\x80\\xa6 https://t.co/uslGy3CdMe',\n",
       "  'Washington, USA'],\n",
       " [b'#Impeached @realDonaldTrump \\n@FoxNews statistics on undocumented immigrants is false and misleading.\\xe2\\x80\\xa6 https://t.co/N6tM5BYO6q',\n",
       "  'Washington, USA'],\n",
       " [b'Home Affairs advice throws visa outsourcing plan into doubt \\n\\nhttps://t.co/15bCXAfaGy\\n\\n#immigrants #australiaVisa\\xe2\\x80\\xa6 https://t.co/hFPoGyBxIo',\n",
       "  'Tasmania, Australia'],\n",
       " [b'#Impeached @realDonaldTrump \\n29% of #immigrants have a college degree, similar to their American born counterparts\\xe2\\x80\\xa6 https://t.co/NcXJogxKpw',\n",
       "  'Washington, USA']]"
      ]
     },
     "execution_count": 4,
     "metadata": {},
     "output_type": "execute_result"
    }
   ],
   "source": [
    "#only finding data where user location is populated\n",
    "locs = [[tweet.text.encode(\"utf-8\"), tweet.user.location] for tweet in tweets if tweet.user.location !='']\n",
    "locs"
   ]
  },
  {
   "cell_type": "code",
   "execution_count": 5,
   "metadata": {},
   "outputs": [],
   "source": [
    "#writing the csv\n",
    "#note: when running it through the first time, use 'w' rather than a\n",
    "#and uncomment .writerow([\"text\", \"location\"])\n",
    "# with open('#ImmigrationReform_location_tweets.csv', 'a') as f:\n",
    "#     writer = csv.writer(f)\n",
    "#     #writer.writerow([\"text\",\"location\"])\n",
    "#     writer.writerows(locs)"
   ]
  },
  {
   "cell_type": "markdown",
   "metadata": {},
   "source": [
    "**Note**: The above cell is commented simply to prevent the csv from having new data added to it should someone choose to run all cells in order to generate the interactive google heatmap presented in Figure 3. This original scraping was in fact done in another document and simply replicated here for continuity."
   ]
  },
  {
   "cell_type": "code",
   "execution_count": 6,
   "metadata": {},
   "outputs": [
    {
     "data": {
      "text/html": [
       "<div>\n",
       "<style scoped>\n",
       "    .dataframe tbody tr th:only-of-type {\n",
       "        vertical-align: middle;\n",
       "    }\n",
       "\n",
       "    .dataframe tbody tr th {\n",
       "        vertical-align: top;\n",
       "    }\n",
       "\n",
       "    .dataframe thead th {\n",
       "        text-align: right;\n",
       "    }\n",
       "</style>\n",
       "<table border=\"1\" class=\"dataframe\">\n",
       "  <thead>\n",
       "    <tr style=\"text-align: right;\">\n",
       "      <th></th>\n",
       "      <th>latitude</th>\n",
       "      <th>longitude</th>\n",
       "    </tr>\n",
       "  </thead>\n",
       "  <tbody>\n",
       "    <tr>\n",
       "      <th>0</th>\n",
       "      <td>27.6648</td>\n",
       "      <td>-81.52</td>\n",
       "    </tr>\n",
       "    <tr>\n",
       "      <th>1</th>\n",
       "      <td>40.0583</td>\n",
       "      <td>-74.41</td>\n",
       "    </tr>\n",
       "    <tr>\n",
       "      <th>4</th>\n",
       "      <td>40.0379</td>\n",
       "      <td>-76.31</td>\n",
       "    </tr>\n",
       "    <tr>\n",
       "      <th>5</th>\n",
       "      <td>30.2672</td>\n",
       "      <td>-97.74</td>\n",
       "    </tr>\n",
       "    <tr>\n",
       "      <th>6</th>\n",
       "      <td>41.5382</td>\n",
       "      <td>-72.81</td>\n",
       "    </tr>\n",
       "  </tbody>\n",
       "</table>\n",
       "</div>"
      ],
      "text/plain": [
       "   latitude  longitude\n",
       "0   27.6648     -81.52\n",
       "1   40.0583     -74.41\n",
       "4   40.0379     -76.31\n",
       "5   30.2672     -97.74\n",
       "6   41.5382     -72.81"
      ]
     },
     "execution_count": 6,
     "metadata": {},
     "output_type": "execute_result"
    }
   ],
   "source": [
    "##reading the csv file\n",
    "imm_loc=pd.read_csv('#ImmigrationReform_location_tweets.csv')\n",
    "\n",
    "#checking that it contains expected data\n",
    "#display(imm_loc)\n",
    "\n",
    "#removing NAs\n",
    "imm=imm_loc.dropna()\n",
    "\n",
    "#creating new DF of just latitude and longitude\n",
    "locations = imm.drop(['text', 'location', 'region'], axis=1)\n",
    "\n",
    "locations.head()"
   ]
  },
  {
   "cell_type": "markdown",
   "metadata": {},
   "source": [
    "After reading the csv into a pandas dataframe, all NAs (which only occurred at the latitude and longitude columns) are removed so as to generate a dataframe with only complete geographic information. Finally, for the purposes of simply visualizing the locations of the tweets, all columns save for latitude and longitude are dropped."
   ]
  },
  {
   "cell_type": "markdown",
   "metadata": {},
   "source": [
    "### 2.4) Visualization of #ImmigrationReform Twitter GeoData"
   ]
  },
  {
   "cell_type": "markdown",
   "metadata": {},
   "source": [
    "#### 2.4.1) Creating Interactive Map of #ImmigrationReform"
   ]
  },
  {
   "cell_type": "code",
   "execution_count": 7,
   "metadata": {},
   "outputs": [
    {
     "data": {
      "text/html": [
       "<div style=\"width:100%;\"><div style=\"position:relative;width:100%;height:0;padding-bottom:60%;\"><iframe src=\"data:text/html;charset=utf-8;base64,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\" style=\"position:absolute;width:100%;height:100%;left:0;top:0;border:none !important;\" allowfullscreen webkitallowfullscreen mozallowfullscreen></iframe></div></div>"
      ],
      "text/plain": [
       "<folium.folium.Map at 0x13475bbe0>"
      ]
     },
     "execution_count": 7,
     "metadata": {},
     "output_type": "execute_result"
    }
   ],
   "source": [
    "#making an empty folium map\n",
    "ma = folium.Map(location=[40, -95], tiles=\"OpenStreetMap\", zoom_start=4.4)\n",
    "\n",
    "title_html = '''\n",
    "             <h3 align=\"center\" style=\"font-size:20px\"><b>#ImmigrationReform Discussion Locations</b></h3>\n",
    "             '''\n",
    "ma.get_root().html.add_child(folium.Element(title_html))\n",
    " \n",
    "#adding markers for ImmigrationReform Discussion\n",
    "for i in range(0,len(locations)):\n",
    "    folium.Marker([locations.iloc[i]['latitude'], locations.iloc[i]['longitude']]).add_to(ma)\n",
    " \n",
    "\n",
    "ma\n",
    "ma.save('SimpleMap.ht')"
   ]
  },
  {
   "cell_type": "markdown",
   "metadata": {},
   "source": [
    "**Figure 1**\n",
    "\n",
    "After scraping over 200 original tweets over December 2019 and January 2020, just 130 gave a user location that allowed the geographical diversity of the ImmigrationReform hashtag in the United States to be visualized and understood. While some locations were repeatedly involved in the discussion, through invoking #ImmigrationReform in their tweet, Figure 1 only allows us to see just what states or areas were involved in the discussion rather than the exact degree of their involvement. \n",
    "\n",
    "In Figure 1, we can see that most of the discussion featured areas across the country, from the Northeast to the Southern Coast and the West Coast. The region that was least represented was the Midwest, with only a few tweets in Indiana, Michigan, Illinois and Ohio. However, this discrepancy makes sense as the Midwest as a region is the most sparsely populated in the U.S., while others have several metropolitan centers."
   ]
  },
  {
   "cell_type": "markdown",
   "metadata": {},
   "source": [
    "#### 2.4.2) Creating an Interactive Heatmap"
   ]
  },
  {
   "cell_type": "code",
   "execution_count": 50,
   "metadata": {},
   "outputs": [
    {
     "data": {
      "text/html": [
       "<div style=\"width:100%;\"><div style=\"position:relative;width:100%;height:0;padding-bottom:60%;\"><iframe src=\"data:text/html;charset=utf-8;base64,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\" style=\"position:absolute;width:100%;height:100%;left:0;top:0;border:none !important;\" allowfullscreen webkitallowfullscreen mozallowfullscreen></iframe></div></div>"
      ],
      "text/plain": [
       "<folium.folium.Map at 0x113ffde48>"
      ]
     },
     "execution_count": 50,
     "metadata": {},
     "output_type": "execute_result"
    }
   ],
   "source": [
    "#simply ignoring warnings\n",
    "warnings.filterwarnings(\"ignore\")\n",
    "\n",
    "#making an empty folium map\n",
    "ma = folium.Map(location=[40, -95], tiles=\"OpenStreetMap\", zoom_start=4)\n",
    "\n",
    "title_html = '''\n",
    "             <h3 align=\"center\" style=\"font-size:20px\"><b>#ImmigrationReform Discussion Locations</b></h3>\n",
    "             '''\n",
    "ma.get_root().html.add_child(folium.Element(title_html))\n",
    "\n",
    "#adding markers for ImmigrationReform Discussion\n",
    "for i in range(0,len(locations)):\n",
    "    folium.CircleMarker([locations.iloc[i]['latitude'], locations.iloc[i]['longitude']],\n",
    "                        radius=3,\n",
    "                        fill_color=\"#3db7e4\", \n",
    "                       ).add_to(ma)\n",
    "\n",
    "# convert to array in order to create heatmap\n",
    "arr=locations[['latitude', 'longitude']].as_matrix()\n",
    "\n",
    "#plotting heatmap\n",
    "ma.add_child(plugins.HeatMap(arr, radius=35))\n",
    "ma\n",
    "\n",
    "ma.save('HeatMap.html')"
   ]
  },
  {
   "cell_type": "markdown",
   "metadata": {},
   "source": [
    "**Figure 2**\n",
    "\n",
    "As visualized in Figure 2's heatmap representing the volume of #ImmigrationReform tweets, it appears that the bulk of discussion is centered around the East Coast. Specifically, the most tweets came from the Philadelphia, New York and New Jersey area. The next largest volume discussion areas were Texas, Southern California and Arizona. For these areas, it should be noted that the data came from urban areas such as Austin, Los Angeles and Phoenix rather than rural locations immediately adjacent to the U.S.-Mexico border. Additionally, there  is a northern satellite of tweets near Washington State, which makes up part of the U.S.-Canada border.\n",
    "\n",
    "The fact that the largest volume of tweets comes from the Eastern Seaboard is unsurprising given the large population level of the area, thereby increasing the likelihood that individuals with Twitter accounts, just to even discuss the topic, would live in that region. New York City and Washington D.C. are also two cities with a considerable amount of social and political influence in the United States, thus making it unsurprising that its residents would concern themselves with the #ImmigrationReform discussion.\n",
    "\n",
    "As for the prevalence of tweets in Texas, the Southwest and Southern California, this also makes intuitive sense given the proximity to the southern border with Mexico, the focal point of much of the immigration debate in the United States for the past few decades and especially with respect to the current American Presidential Administration."
   ]
  },
  {
   "cell_type": "markdown",
   "metadata": {},
   "source": [
    "#### 2.4.3) Creating Interactive Heatmap with GoogleMaps"
   ]
  },
  {
   "cell_type": "code",
   "execution_count": 51,
   "metadata": {},
   "outputs": [
    {
     "data": {
      "application/vnd.jupyter.widget-view+json": {
       "model_id": "268b9edc33c94461b45cf8489db9c7c8",
       "version_major": 2,
       "version_minor": 0
      },
      "text/plain": [
       "Figure(layout=FigureLayout(height='420px'))"
      ]
     },
     "metadata": {},
     "output_type": "display_data"
    }
   ],
   "source": [
    "#creating new DF of just latitude and longitude\n",
    "locations = imm.drop(['text', 'location', 'region'], axis=1)\n",
    "\n",
    "# Load credentials from json file\n",
    "with open(\"google_credentials.json\", \"r\") as file:\n",
    "    creds = json.load(file)\n",
    "\n",
    "# accessing raw googlemaps data\n",
    "# with #ImmigrationReform data overlayed as locations\n",
    "# to create the heatmap\n",
    "# Note: as the data uses GoogleMaps data, THE KERNAL MUST BE RUN EVERY TIME\n",
    "# IN ORDER TO SEE THE DATA\n",
    "gmaps.configure(api_key=creds['API_KEY'])\n",
    "fig=gmaps.figure(map_type='HYBRID')\n",
    "heatmap_layer=gmaps.heatmap_layer(locations)\n",
    "fig.add_layer(heatmap_layer)\n",
    "fig"
   ]
  },
  {
   "cell_type": "markdown",
   "metadata": {},
   "source": [
    "**Figure 3**\n",
    "\n",
    "Using the location of the tweets concerning #ImmigrationReform as well as GoogleMaps API and functionality, (found in the google_credentials.json file), an interactive heatmap of the results can be generated. This allows another way of examing the precise geographic location of the tweet to be analyzed, rather than through the interactive maps created through OpenStreetMap data.\n",
    "\n",
    "From this interactive feature, we can merge the insights of Figures 1 and 2 into a single image, with the location of each tweet shown as well as more defined heatmap. We can see that in terms of a single location, Austin, Texas is the most active contributor to the Immigration Reform discussion compared to other cities, (instead of it being the East Coast as originally suggested by Figure 2). While the East Coast still has a high concentration of tweets concering the topic, it does not contain the highest number for a single area rather than a region.\n"
   ]
  },
  {
   "cell_type": "markdown",
   "metadata": {},
   "source": [
    "### 2.5) Natural Language Processing\n",
    "#### 2.5.1) Functions for Sentiment Analysis"
   ]
  },
  {
   "cell_type": "code",
   "execution_count": 52,
   "metadata": {},
   "outputs": [],
   "source": [
    "##creating functions to calculate sentiment\n",
    "\n",
    "#polarity\n",
    "def pol(row):\n",
    "    comment=TextBlob(row['text'])\n",
    "    output=comment.sentiment.polarity\n",
    "    return output\n",
    "\n",
    "#subjectivity\n",
    "def sub(row):\n",
    "    comment=TextBlob(row['text'])\n",
    "    output=comment.sentiment.subjectivity\n",
    "    return output\n",
    "\n",
    "#function to determine tone given polarity\n",
    "def tone(row):\n",
    "    if row['polarity']>0:\n",
    "        t='positive'\n",
    "    elif row['polarity']<0:\n",
    "        t='negative'\n",
    "    else:\n",
    "        t='neutral'\n",
    "    return t\n"
   ]
  },
  {
   "cell_type": "markdown",
   "metadata": {},
   "source": [
    "The above functions calculate sentiment of the text of tweets and define them as having positive, negative or neutral tones depending on the polarity score received."
   ]
  },
  {
   "cell_type": "markdown",
   "metadata": {},
   "source": [
    "#### 2.5.2) Cleaning the Data for Sentiment Analysis"
   ]
  },
  {
   "cell_type": "code",
   "execution_count": 53,
   "metadata": {},
   "outputs": [
    {
     "data": {
      "text/html": [
       "<div>\n",
       "<style scoped>\n",
       "    .dataframe tbody tr th:only-of-type {\n",
       "        vertical-align: middle;\n",
       "    }\n",
       "\n",
       "    .dataframe tbody tr th {\n",
       "        vertical-align: top;\n",
       "    }\n",
       "\n",
       "    .dataframe thead th {\n",
       "        text-align: right;\n",
       "    }\n",
       "</style>\n",
       "<table border=\"1\" class=\"dataframe\">\n",
       "  <thead>\n",
       "    <tr style=\"text-align: right;\">\n",
       "      <th></th>\n",
       "      <th>text</th>\n",
       "      <th>location</th>\n",
       "      <th>region</th>\n",
       "    </tr>\n",
       "  </thead>\n",
       "  <tbody>\n",
       "    <tr>\n",
       "      <th>0</th>\n",
       "      <td>b'@SenRickScott Except when they walk here, se...</td>\n",
       "      <td>Florida, New York, MA, USA</td>\n",
       "      <td>South</td>\n",
       "    </tr>\n",
       "    <tr>\n",
       "      <th>1</th>\n",
       "      <td>b'@barefootgirl814 @PressNewDayNJ @ryanlm92 @N...</td>\n",
       "      <td>New Jersey, USA</td>\n",
       "      <td>East Coast</td>\n",
       "    </tr>\n",
       "    <tr>\n",
       "      <th>4</th>\n",
       "      <td>b'Immigrants Played Vital Role in Trump Impeac...</td>\n",
       "      <td>Lancaster, PA</td>\n",
       "      <td>East Coast</td>\n",
       "    </tr>\n",
       "    <tr>\n",
       "      <th>5</th>\n",
       "      <td>b\"If your house is on fire, you don't invite p...</td>\n",
       "      <td>Austin, TX</td>\n",
       "      <td>South</td>\n",
       "    </tr>\n",
       "    <tr>\n",
       "      <th>6</th>\n",
       "      <td>b'When we fight we win! After a long struggle,...</td>\n",
       "      <td>Meriden, CT</td>\n",
       "      <td>New England</td>\n",
       "    </tr>\n",
       "  </tbody>\n",
       "</table>\n",
       "</div>"
      ],
      "text/plain": [
       "                                                text  \\\n",
       "0  b'@SenRickScott Except when they walk here, se...   \n",
       "1  b'@barefootgirl814 @PressNewDayNJ @ryanlm92 @N...   \n",
       "4  b'Immigrants Played Vital Role in Trump Impeac...   \n",
       "5  b\"If your house is on fire, you don't invite p...   \n",
       "6  b'When we fight we win! After a long struggle,...   \n",
       "\n",
       "                     location       region  \n",
       "0  Florida, New York, MA, USA        South  \n",
       "1             New Jersey, USA   East Coast  \n",
       "4               Lancaster, PA   East Coast  \n",
       "5                  Austin, TX        South  \n",
       "6                 Meriden, CT  New England  "
      ]
     },
     "execution_count": 53,
     "metadata": {},
     "output_type": "execute_result"
    }
   ],
   "source": [
    "#creating new df for natural language processing\n",
    "#removing lat and long as they are no longer necessary\n",
    "immNLP = imm.drop(['latitude', 'longitude'], axis=1)\n",
    "immNLP.head()"
   ]
  },
  {
   "cell_type": "code",
   "execution_count": 54,
   "metadata": {},
   "outputs": [
    {
     "data": {
      "text/html": [
       "<div>\n",
       "<style scoped>\n",
       "    .dataframe tbody tr th:only-of-type {\n",
       "        vertical-align: middle;\n",
       "    }\n",
       "\n",
       "    .dataframe tbody tr th {\n",
       "        vertical-align: top;\n",
       "    }\n",
       "\n",
       "    .dataframe thead th {\n",
       "        text-align: right;\n",
       "    }\n",
       "</style>\n",
       "<table border=\"1\" class=\"dataframe\">\n",
       "  <thead>\n",
       "    <tr style=\"text-align: right;\">\n",
       "      <th></th>\n",
       "      <th>text</th>\n",
       "      <th>location</th>\n",
       "      <th>region</th>\n",
       "      <th>polarity</th>\n",
       "      <th>sentiment</th>\n",
       "      <th>tone</th>\n",
       "    </tr>\n",
       "  </thead>\n",
       "  <tbody>\n",
       "    <tr>\n",
       "      <th>0</th>\n",
       "      <td>b'@SenRickScott Except when they walk here, se...</td>\n",
       "      <td>Florida, New York, MA, USA</td>\n",
       "      <td>South</td>\n",
       "      <td>0.000000</td>\n",
       "      <td>0.000000</td>\n",
       "      <td>neutral</td>\n",
       "    </tr>\n",
       "    <tr>\n",
       "      <th>1</th>\n",
       "      <td>b'@barefootgirl814 @PressNewDayNJ @ryanlm92 @N...</td>\n",
       "      <td>New Jersey, USA</td>\n",
       "      <td>East Coast</td>\n",
       "      <td>0.000000</td>\n",
       "      <td>0.000000</td>\n",
       "      <td>neutral</td>\n",
       "    </tr>\n",
       "    <tr>\n",
       "      <th>4</th>\n",
       "      <td>b'Immigrants Played Vital Role in Trump Impeac...</td>\n",
       "      <td>Lancaster, PA</td>\n",
       "      <td>East Coast</td>\n",
       "      <td>0.100000</td>\n",
       "      <td>0.400000</td>\n",
       "      <td>positive</td>\n",
       "    </tr>\n",
       "    <tr>\n",
       "      <th>5</th>\n",
       "      <td>b\"If your house is on fire, you don't invite p...</td>\n",
       "      <td>Austin, TX</td>\n",
       "      <td>South</td>\n",
       "      <td>0.268182</td>\n",
       "      <td>0.750000</td>\n",
       "      <td>positive</td>\n",
       "    </tr>\n",
       "    <tr>\n",
       "      <th>6</th>\n",
       "      <td>b'When we fight we win! After a long struggle,...</td>\n",
       "      <td>Meriden, CT</td>\n",
       "      <td>New England</td>\n",
       "      <td>0.362121</td>\n",
       "      <td>0.418182</td>\n",
       "      <td>positive</td>\n",
       "    </tr>\n",
       "  </tbody>\n",
       "</table>\n",
       "</div>"
      ],
      "text/plain": [
       "                                                text  \\\n",
       "0  b'@SenRickScott Except when they walk here, se...   \n",
       "1  b'@barefootgirl814 @PressNewDayNJ @ryanlm92 @N...   \n",
       "4  b'Immigrants Played Vital Role in Trump Impeac...   \n",
       "5  b\"If your house is on fire, you don't invite p...   \n",
       "6  b'When we fight we win! After a long struggle,...   \n",
       "\n",
       "                     location       region  polarity  sentiment      tone  \n",
       "0  Florida, New York, MA, USA        South  0.000000   0.000000   neutral  \n",
       "1             New Jersey, USA   East Coast  0.000000   0.000000   neutral  \n",
       "4               Lancaster, PA   East Coast  0.100000   0.400000  positive  \n",
       "5                  Austin, TX        South  0.268182   0.750000  positive  \n",
       "6                 Meriden, CT  New England  0.362121   0.418182  positive  "
      ]
     },
     "execution_count": 54,
     "metadata": {},
     "output_type": "execute_result"
    }
   ],
   "source": [
    "#adding values for polarity and tone\n",
    "immNLP['polarity']=immNLP.apply(pol, axis=1)\n",
    "immNLP['sentiment']=immNLP.apply(sub, axis=1)\n",
    "\n",
    "#calculating tone\n",
    "immNLP['tone']=immNLP.apply(tone, axis=1)\n",
    "immNLP.head()"
   ]
  },
  {
   "cell_type": "code",
   "execution_count": 55,
   "metadata": {},
   "outputs": [],
   "source": [
    "#finding counts of positive, negative and neutral tones\n",
    "tone_counts=immNLP['tone'].value_counts()\n",
    "#print(tone_counts)\n",
    "\n",
    "pos=36\n",
    "neg=17\n",
    "neu=37\n",
    "\n",
    "region_counts=immNLP['region'].value_counts()\n",
    "#print(region_counts)\n",
    "\n",
    "tr_counts=immNLP.groupby(['tone', 'region']).size()\n",
    "#print(tr_counts)\n",
    "\n",
    "\n",
    "label=['Positive', 'Negative', 'Neutral']\n",
    "\n",
    "#creating dataframe of counts based on results for tr_counts and validated with region_counts\n",
    "counts = pd.DataFrame({'Count': [pos, neg, neu], 'New England': [3, 1, 1], 'East Coast': [3, 2, 14], \n",
    "                       'Midwest': [2, 1, 4], 'South': [18, 5, 8], 'Southwest': [2, 1, 3], 'West Coast': [8, 7, 7]},\n",
    "            index=label)"
   ]
  },
  {
   "cell_type": "markdown",
   "metadata": {},
   "source": [
    "The above code creates counts of tone for each region in order to generate the pie chart in Figure 4."
   ]
  },
  {
   "cell_type": "code",
   "execution_count": 56,
   "metadata": {},
   "outputs": [
    {
     "data": {
      "text/html": [
       "<div>\n",
       "<style scoped>\n",
       "    .dataframe tbody tr th:only-of-type {\n",
       "        vertical-align: middle;\n",
       "    }\n",
       "\n",
       "    .dataframe tbody tr th {\n",
       "        vertical-align: top;\n",
       "    }\n",
       "\n",
       "    .dataframe thead th {\n",
       "        text-align: right;\n",
       "    }\n",
       "</style>\n",
       "<table border=\"1\" class=\"dataframe\">\n",
       "  <thead>\n",
       "    <tr style=\"text-align: right;\">\n",
       "      <th></th>\n",
       "      <th>Count</th>\n",
       "      <th>New England</th>\n",
       "      <th>East Coast</th>\n",
       "      <th>Midwest</th>\n",
       "      <th>South</th>\n",
       "      <th>Southwest</th>\n",
       "      <th>West Coast</th>\n",
       "    </tr>\n",
       "  </thead>\n",
       "  <tbody>\n",
       "    <tr>\n",
       "      <th>Positive</th>\n",
       "      <td>36</td>\n",
       "      <td>3</td>\n",
       "      <td>3</td>\n",
       "      <td>2</td>\n",
       "      <td>18</td>\n",
       "      <td>2</td>\n",
       "      <td>8</td>\n",
       "    </tr>\n",
       "    <tr>\n",
       "      <th>Negative</th>\n",
       "      <td>17</td>\n",
       "      <td>1</td>\n",
       "      <td>2</td>\n",
       "      <td>1</td>\n",
       "      <td>5</td>\n",
       "      <td>1</td>\n",
       "      <td>7</td>\n",
       "    </tr>\n",
       "    <tr>\n",
       "      <th>Neutral</th>\n",
       "      <td>37</td>\n",
       "      <td>1</td>\n",
       "      <td>14</td>\n",
       "      <td>4</td>\n",
       "      <td>8</td>\n",
       "      <td>3</td>\n",
       "      <td>7</td>\n",
       "    </tr>\n",
       "  </tbody>\n",
       "</table>\n",
       "</div>"
      ],
      "text/plain": [
       "          Count  New England  East Coast  Midwest  South  Southwest  \\\n",
       "Positive     36            3           3        2     18          2   \n",
       "Negative     17            1           2        1      5          1   \n",
       "Neutral      37            1          14        4      8          3   \n",
       "\n",
       "          West Coast  \n",
       "Positive           8  \n",
       "Negative           7  \n",
       "Neutral            7  "
      ]
     },
     "metadata": {},
     "output_type": "display_data"
    },
    {
     "data": {
      "text/html": [
       "<div>\n",
       "<style scoped>\n",
       "    .dataframe tbody tr th:only-of-type {\n",
       "        vertical-align: middle;\n",
       "    }\n",
       "\n",
       "    .dataframe tbody tr th {\n",
       "        vertical-align: top;\n",
       "    }\n",
       "\n",
       "    .dataframe thead th {\n",
       "        text-align: right;\n",
       "    }\n",
       "</style>\n",
       "<table border=\"1\" class=\"dataframe\">\n",
       "  <thead>\n",
       "    <tr style=\"text-align: right;\">\n",
       "      <th></th>\n",
       "      <th>Positive</th>\n",
       "      <th>Negative</th>\n",
       "      <th>Neutral</th>\n",
       "    </tr>\n",
       "  </thead>\n",
       "  <tbody>\n",
       "    <tr>\n",
       "      <th>New England</th>\n",
       "      <td>3</td>\n",
       "      <td>1</td>\n",
       "      <td>1</td>\n",
       "    </tr>\n",
       "    <tr>\n",
       "      <th>East Coast</th>\n",
       "      <td>3</td>\n",
       "      <td>2</td>\n",
       "      <td>14</td>\n",
       "    </tr>\n",
       "    <tr>\n",
       "      <th>Midwest</th>\n",
       "      <td>2</td>\n",
       "      <td>1</td>\n",
       "      <td>4</td>\n",
       "    </tr>\n",
       "    <tr>\n",
       "      <th>South</th>\n",
       "      <td>18</td>\n",
       "      <td>5</td>\n",
       "      <td>8</td>\n",
       "    </tr>\n",
       "    <tr>\n",
       "      <th>Southwest</th>\n",
       "      <td>2</td>\n",
       "      <td>1</td>\n",
       "      <td>3</td>\n",
       "    </tr>\n",
       "    <tr>\n",
       "      <th>West Coast</th>\n",
       "      <td>8</td>\n",
       "      <td>7</td>\n",
       "      <td>7</td>\n",
       "    </tr>\n",
       "  </tbody>\n",
       "</table>\n",
       "</div>"
      ],
      "text/plain": [
       "             Positive  Negative  Neutral\n",
       "New England         3         1        1\n",
       "East Coast          3         2       14\n",
       "Midwest             2         1        4\n",
       "South              18         5        8\n",
       "Southwest           2         1        3\n",
       "West Coast          8         7        7"
      ]
     },
     "metadata": {},
     "output_type": "display_data"
    }
   ],
   "source": [
    "display(counts)\n",
    "\n",
    "reg_count=counts.drop(['Count'], axis=1)\n",
    "#display(reg_count)\n",
    "\n",
    "#transposing graph for pie chart\n",
    "reg_count=reg_count.transpose()\n",
    "display(reg_count)"
   ]
  },
  {
   "cell_type": "markdown",
   "metadata": {},
   "source": [
    "#### 2.5.3) Visualizing the Sentiment of #ImmigrationReform"
   ]
  },
  {
   "cell_type": "code",
   "execution_count": 57,
   "metadata": {},
   "outputs": [
    {
     "data": {
      "image/png": "[encoded data removed]",
      "text/plain": [
       "<Figure size 432x288 with 1 Axes>"
      ]
     },
     "metadata": {},
     "output_type": "display_data"
    }
   ],
   "source": [
    "# Create pie chart of Tone for #ImmigrationReform Tweets \n",
    "p=plt.pie(\n",
    "    counts['Count'],\n",
    "    labels=label,\n",
    "    # with no shadows\n",
    "    shadow=False,\n",
    "    # with one slide exploded out\n",
    "    explode=(0, 0, 0.1),\n",
    "    # with the start angle at 90%\n",
    "    startangle=90,\n",
    "    # with the percent listed as a fraction\n",
    "    autopct='%1.1f%%',\n",
    "    )\n",
    "\n",
    "#Added details (including title)\n",
    "plt.title('Tone of #ImmigrationReform Tweets', bbox={'facecolor':'0.9', 'pad':3})\n",
    "plt.tight_layout()\n",
    "plt.show()"
   ]
  },
  {
   "cell_type": "markdown",
   "metadata": {},
   "source": [
    "**Figure 4**\n",
    "\n",
    "Looking at the entirety of the #ImmigrationReform tweets, it seems that the majority (41.1%) held a neutral tone concerning the topic, while 40% had a positive tone and 18.9% had a negative one. This presents a different breakdown than I expected, with a far more neutral and positive tone to the discussion than negative. This could suggest that with respect to the #ImmigrationReform narrative, the conversation tone of average citizens is in fact more positive than the negative political climate would indicate. \n",
    "\n",
    "That said, there are some limitations to this analysis that may not result in that conclusion. Specifically, the exact dictionary that determines whether certain words are positive or negative (in terms of their polarity score), is not foolproof. A word such as 'family' may have a more positive score, but it could be used in a negative context. For instance, in 'help my family', 'help' and 'family' may be seen as positive but the overall sentence is clearly negative. Thus, the final tone or polarity score would not accurately capture the true sense of the sentence. \n"
   ]
  },
  {
   "cell_type": "code",
   "execution_count": 58,
   "metadata": {},
   "outputs": [
    {
     "data": {
      "image/png": "[encoded data removed]",
      "text/plain": [
       "<Figure size 1080x720 with 1 Axes>"
      ]
     },
     "metadata": {
      "needs_background": "light"
     },
     "output_type": "display_data"
    }
   ],
   "source": [
    "#creating vectorizer\n",
    "cv=TfidfVectorizer()\n",
    "\n",
    "#finding TF-IDF for all #ImmigrationReform tweets' text\n",
    "text_t = cv.fit_transform(immNLP[\"text\"])\n",
    "\n",
    "#turning it into an array in order to compute cosine similarity\n",
    "a = text_t.toarray()\n",
    "\n",
    "#computing cosine similarity\n",
    "index = cosine_similarity(a)\n",
    "\n",
    "#plotting\n",
    "fig, ax = plt.subplots(figsize=(15,10))\n",
    "\n",
    "#adding title\n",
    "plt.title('Similarity of #ImmigrationReform Tweets', fontsize=15)\n",
    "\n",
    "ax.matshow(index, cmap='Blues');"
   ]
  },
  {
   "cell_type": "markdown",
   "metadata": {},
   "source": [
    "**Figure 5**\n",
    "\n",
    "In examining the cosine similiarity of each tweets' text, Figure 5 demonstrates that there is no clustering of the tweets content according to a specific pattern (i.e. all the tweets concerning #ImmigrationReform sound generally different or do not use precisely the same language). However, there are a few seemingly random tweets that share a large similarity across their content and language. This appears to be the 6th tweet, 16th tweet, 26th tweet and so on in the data. From my time looking at the raw data, I believe this particular occurence was due to a series of similar tweets being posted over time from the Houston area, occasionally from the same account. However, each tweet was still original, in that it was not a retweet, and simply reflected a repeated message concerning immigration reform that individuals wanted to stress.\n"
   ]
  },
  {
   "cell_type": "code",
   "execution_count": 59,
   "metadata": {},
   "outputs": [
    {
     "data": {
      "image/png": "[encoded data removed]",
      "text/plain": [
       "<Figure size 1080x720 with 1 Axes>"
      ]
     },
     "metadata": {
      "needs_background": "light"
     },
     "output_type": "display_data"
    }
   ],
   "source": [
    "# From raw value to percentage\n",
    "totals = [i+j+k for i,j,k in zip(reg_count['Positive'], reg_count['Negative'], reg_count['Neutral'])]\n",
    "pos_v = [i / j * 100 for i,j in zip(reg_count['Positive'], totals)]\n",
    "neg_v = [i / j * 100 for i,j in zip(reg_count['Negative'], totals)]\n",
    "neu_v = [i / j * 100 for i,j in zip(reg_count['Neutral'], totals)]\n",
    " \n",
    "#plotting\n",
    "barWidth = 0.85\n",
    "\n",
    "regions=['New England', 'East Coast', 'Midwest', 'South', 'Southwest', 'West Coast']\n",
    "\n",
    "fig, ax= plt.subplots(figsize=(15,10))\n",
    "# Create positive bar\n",
    "p1=plt.bar(regions, pos_v, color='steelblue', edgecolor='white', width=barWidth)\n",
    "# Create negative bar\n",
    "p2=plt.bar(regions, neg_v, bottom=pos_v, color='darkorange', edgecolor='white', width=barWidth)\n",
    "# Create neutral bar\n",
    "p3=plt.bar(regions, neu_v, bottom=[i+j for i,j in zip(pos_v, neg_v)], color='forestgreen', edgecolor='white', width=barWidth)\n",
    " \n",
    "#changing x and y axis\n",
    "plt.xlabel(\"Region\", fontsize=23)\n",
    "plt.xticks(fontsize=15)\n",
    "plt.ylabel(\"Percentage\", fontsize=23)\n",
    "plt.yticks(fontsize=15)\n",
    "\n",
    "#add title\n",
    "plt.title('#ImmigrationReform Tone For U.S. Regions', fontsize=25)\n",
    "\n",
    "#adding legend\n",
    "plt.legend((p1[0], p2[0], p3[0]), ('Positive', 'Negative', 'Neutral'), bbox_to_anchor=(1, 1), loc= 'best', fontsize=20)\n",
    "\n",
    "# Show graphic\n",
    "plt.show()\n"
   ]
  },
  {
   "cell_type": "markdown",
   "metadata": {},
   "source": [
    "**Figure 6**\n",
    "\n",
    "It seems, according to the above figure, that the regions of the U.S. with the highest proportion of positive sentiment surrounding immigration reform is New England and the South, (with each at or slightly below 60% of the tweets). The next most positive are the West Coast and the Southwest, with both around 30%, and then the Midwest and the East Coast, at 28% and 15% respectively.\n",
    "\n",
    "However, it also appears that the West Coast has the highest proportion of negative sentiment, with also around 30%. New England then has the second most negative sentiment at 20%, while the South and Southwest each have roughly 15%, the Midwest has 13% and the East Coast has around 10%. \n",
    "\n",
    "Thus, though the West Coast has a sizable proportion of positive sentiment surrounding immigration reform, there is also an equally significant portion that uses a negative tone with respect to the debate."
   ]
  },
  {
   "cell_type": "markdown",
   "metadata": {},
   "source": [
    "### 2.6) Sentiment Analysis of Official GOP and Democrat Tweets"
   ]
  },
  {
   "cell_type": "markdown",
   "metadata": {},
   "source": [
    "#### 2.6.1) Dataset for Sentiment Analysis of Official GOP and Dem Tweets\n",
    "\n",
    "For both the GOP and the Democrats, their most recent tweets were scraped from their official Twitter accounts. For the GOP, 3236 observations/tweets were collected and 3205 were scraped for the Democrats. Each observation comprised the exact time the tweet was created and its text. Three additional variables were manually added to the observations as well, once they were in a dataframe: polarity, subjectivity, and tone.\n",
    "\n",
    "Polarity and subjectivity are simply numerical measures, with the former representing the overall sentiment of the language used as measured from -1 (negative) to 1 (positive). Subjectivity is just that, how subjective the tweet is according to its langauage on a scale from 0 (objective) to 1 (very subjective). Tone is a categorical variable for the tweet's polarity, with anything below 0 seen as 'negative' and above 0 'positive', while 0 itself is seen as 'neutral'."
   ]
  },
  {
   "cell_type": "markdown",
   "metadata": {},
   "source": [
    "#### 2.6.2) Scraping the Twitter Data From Each Account"
   ]
  },
  {
   "cell_type": "code",
   "execution_count": 60,
   "metadata": {},
   "outputs": [],
   "source": [
    "##function to scrape most recent tweets from a Twitter handle\n",
    "def get_all_tweets(screen_name):\n",
    "\n",
    "    #setting up api\n",
    "    auth = tweepy.OAuthHandler(consumer_key, consumer_secret)\n",
    "    auth.set_access_token(access_key, access_secret)\n",
    "    api = tweepy.API(auth)\n",
    "\n",
    "    #initialize list to hold the tweets\n",
    "    alltweets = []\n",
    "\n",
    "    #make initial request for most recent tweets\n",
    "    new_tweets = api.user_timeline(screen_name = screen_name,count=200)\n",
    "\n",
    "    #saving most recent tweets\n",
    "    alltweets.extend(new_tweets)\n",
    "\n",
    "    #saving the id of the oldest tweet less than one\n",
    "    oldest = alltweets[-1].id - 1\n",
    "\n",
    "    #keep grabbing tweets until there are no tweets left to grab\n",
    "    while len(new_tweets) > 0:\n",
    "    \n",
    "        #making new requests wihtout duplicates (the max_id set to oldest does this)\n",
    "        new_tweets = api.user_timeline(screen_name = screen_name,count=200,max_id=oldest)\n",
    "\n",
    "        #saving most recent tweets\n",
    "        alltweets.extend(new_tweets)\n",
    "\n",
    "        #saving the id of the oldest tweet less than one\n",
    "        oldest = alltweets[-1].id - 1\n",
    "    \n",
    "    #transforming the tweets into a 2D array for the csv\n",
    "    outtweets = [[tweet.created_at, tweet.text.encode(\"utf-8\")] for tweet in alltweets]\n",
    "\n",
    "    #write the csv (only ONCE)\n",
    "    with open('%s_tweets.csv' % screen_name, 'w') as f:\n",
    "        writer = csv.writer(f)\n",
    "        writer.writerow([\"created_at\",\"text\"])\n",
    "        writer.writerows(outtweets)\n",
    "\n",
    "    pass\n"
   ]
  },
  {
   "cell_type": "code",
   "execution_count": 61,
   "metadata": {},
   "outputs": [],
   "source": [
    "#Only run once to create csv\n",
    "#as the function writes the csv file\n",
    "#it does NOT append\n",
    "\n",
    "# #Twitter API credentials for new code\n",
    "# consumer_key = creds['CONSUMER_KEY']\n",
    "# consumer_secret = creds['CONSUMER_SECRET']\n",
    "# access_key = creds['ACCESS_TOKEN']\n",
    "# access_secret = creds['ACCESS_SECRET']\n",
    "\n",
    "##getting just tweets from GOP and Democrats official handles\n",
    "#get_all_tweets(\"GOP\")\n",
    "#get_all_tweets(\"TheDemocrats\")"
   ]
  },
  {
   "cell_type": "markdown",
   "metadata": {},
   "source": [
    "**Note**: the get_all_tweets() function calls were commented out in order to prevent the original csv from being changed should 'run all cells' be accidentally selected. The original code was run in a separate document and was only added here in order to show how the tweets were scraped."
   ]
  },
  {
   "cell_type": "markdown",
   "metadata": {},
   "source": [
    "#### 2.6.3) Sentiment Analysis of All GOP and Democrat Tweets"
   ]
  },
  {
   "cell_type": "code",
   "execution_count": 62,
   "metadata": {},
   "outputs": [],
   "source": [
    "##reading the csv files\n",
    "gop=pd.read_csv('GOP_tweets.csv')\n",
    "dems=pd.read_csv('TheDemocrats_tweets.csv')\n",
    "\n",
    "gop['polarity']=gop.apply(pol, axis=1)\n",
    "gop['subjectivity']=gop.apply(sub, axis=1)\n",
    "dems['polarity']=dems.apply(pol, axis=1)\n",
    "dems['subjectivity']=dems.apply(sub, axis=1)\n",
    "\n",
    "#calculating tone\n",
    "gop['tone']=gop.apply(tone, axis=1)\n",
    "dems['tone']=dems.apply(tone, axis=1)\n"
   ]
  },
  {
   "cell_type": "code",
   "execution_count": 63,
   "metadata": {},
   "outputs": [
    {
     "data": {
      "text/html": [
       "<div>\n",
       "<style scoped>\n",
       "    .dataframe tbody tr th:only-of-type {\n",
       "        vertical-align: middle;\n",
       "    }\n",
       "\n",
       "    .dataframe tbody tr th {\n",
       "        vertical-align: top;\n",
       "    }\n",
       "\n",
       "    .dataframe thead th {\n",
       "        text-align: right;\n",
       "    }\n",
       "</style>\n",
       "<table border=\"1\" class=\"dataframe\">\n",
       "  <thead>\n",
       "    <tr style=\"text-align: right;\">\n",
       "      <th></th>\n",
       "      <th>created_at</th>\n",
       "      <th>text</th>\n",
       "      <th>polarity</th>\n",
       "      <th>subjectivity</th>\n",
       "      <th>tone</th>\n",
       "    </tr>\n",
       "  </thead>\n",
       "  <tbody>\n",
       "    <tr>\n",
       "      <th>3200</th>\n",
       "      <td>2019-01-24 23:52:11</td>\n",
       "      <td>b'Los dem\\xc3\\xb3cratas est\\xc3\\xa1n trabajand...</td>\n",
       "      <td>0.000</td>\n",
       "      <td>0.000000</td>\n",
       "      <td>neutral</td>\n",
       "    </tr>\n",
       "    <tr>\n",
       "      <th>3201</th>\n",
       "      <td>2019-01-24 22:39:00</td>\n",
       "      <td>b'Hundreds of thousands of workers will miss a...</td>\n",
       "      <td>0.000</td>\n",
       "      <td>0.000000</td>\n",
       "      <td>neutral</td>\n",
       "    </tr>\n",
       "    <tr>\n",
       "      <th>3202</th>\n",
       "      <td>2019-01-24 21:13:11</td>\n",
       "      <td>b'File under: \"You can\\'t make this stuff up.\"...</td>\n",
       "      <td>0.000</td>\n",
       "      <td>0.000000</td>\n",
       "      <td>neutral</td>\n",
       "    </tr>\n",
       "    <tr>\n",
       "      <th>3203</th>\n",
       "      <td>2019-01-24 20:30:43</td>\n",
       "      <td>b\"It's clear the multimillionaires in Trump's ...</td>\n",
       "      <td>0.100</td>\n",
       "      <td>0.383333</td>\n",
       "      <td>positive</td>\n",
       "    </tr>\n",
       "    <tr>\n",
       "      <th>3204</th>\n",
       "      <td>2019-01-24 20:26:59</td>\n",
       "      <td>b'RT @RepKatieHill: The people\\xe2\\x80\\x99s Ho...</td>\n",
       "      <td>0.125</td>\n",
       "      <td>0.166667</td>\n",
       "      <td>positive</td>\n",
       "    </tr>\n",
       "  </tbody>\n",
       "</table>\n",
       "</div>"
      ],
      "text/plain": [
       "               created_at                                               text  \\\n",
       "3200  2019-01-24 23:52:11  b'Los dem\\xc3\\xb3cratas est\\xc3\\xa1n trabajand...   \n",
       "3201  2019-01-24 22:39:00  b'Hundreds of thousands of workers will miss a...   \n",
       "3202  2019-01-24 21:13:11  b'File under: \"You can\\'t make this stuff up.\"...   \n",
       "3203  2019-01-24 20:30:43  b\"It's clear the multimillionaires in Trump's ...   \n",
       "3204  2019-01-24 20:26:59  b'RT @RepKatieHill: The people\\xe2\\x80\\x99s Ho...   \n",
       "\n",
       "      polarity  subjectivity      tone  \n",
       "3200     0.000      0.000000   neutral  \n",
       "3201     0.000      0.000000   neutral  \n",
       "3202     0.000      0.000000   neutral  \n",
       "3203     0.100      0.383333  positive  \n",
       "3204     0.125      0.166667  positive  "
      ]
     },
     "execution_count": 63,
     "metadata": {},
     "output_type": "execute_result"
    }
   ],
   "source": [
    "#note: gop tweets only go to June 27th, 2019\n",
    "gop.tail()\n",
    "\n",
    "#note: dems tweets go to January 24th, 2019\n",
    "dems.tail()"
   ]
  },
  {
   "cell_type": "markdown",
   "metadata": {},
   "source": [
    "**Note**: There is an uneven timeline of tweets for each account. As the function simply pulls the most recent, roughly, 3200 tweets from a particular Twitter handle, if one account simply tweets more per day than another, then that account may have tweets only until a more recent date rather than one that tweets sporadically. As such, the GOP only has scraped tweets from June 27th, 2019 while the Democrats them from as far as January 24th, 2019. "
   ]
  },
  {
   "cell_type": "markdown",
   "metadata": {},
   "source": [
    "#### 2.6.4) Visualization of GOP and Democrat Tweet Sentiment on Impeachment"
   ]
  },
  {
   "cell_type": "code",
   "execution_count": 64,
   "metadata": {},
   "outputs": [
    {
     "data": {
      "text/html": [
       "<div>\n",
       "<style scoped>\n",
       "    .dataframe tbody tr th:only-of-type {\n",
       "        vertical-align: middle;\n",
       "    }\n",
       "\n",
       "    .dataframe tbody tr th {\n",
       "        vertical-align: top;\n",
       "    }\n",
       "\n",
       "    .dataframe thead th {\n",
       "        text-align: right;\n",
       "    }\n",
       "</style>\n",
       "<table border=\"1\" class=\"dataframe\">\n",
       "  <thead>\n",
       "    <tr style=\"text-align: right;\">\n",
       "      <th></th>\n",
       "      <th>created_at</th>\n",
       "      <th>text</th>\n",
       "      <th>polarity</th>\n",
       "      <th>subjectivity</th>\n",
       "      <th>tone</th>\n",
       "    </tr>\n",
       "  </thead>\n",
       "  <tbody>\n",
       "    <tr>\n",
       "      <th>26</th>\n",
       "      <td>2019-12-18 23:16:05</td>\n",
       "      <td>b'Tomorrow is the 6\\xef\\xb8\\x8f\\xe2\\x83\\xa3th ...</td>\n",
       "      <td>0.0000</td>\n",
       "      <td>0.000000</td>\n",
       "      <td>neutral</td>\n",
       "    </tr>\n",
       "    <tr>\n",
       "      <th>27</th>\n",
       "      <td>2019-12-18 22:12:06</td>\n",
       "      <td>b'RT @HouseDemocrats: The facts are clear. You...</td>\n",
       "      <td>0.1000</td>\n",
       "      <td>0.383333</td>\n",
       "      <td>positive</td>\n",
       "    </tr>\n",
       "    <tr>\n",
       "      <th>28</th>\n",
       "      <td>2019-12-18 21:08:05</td>\n",
       "      <td>b'We\\xe2\\x80\\x99re proud of @TomPerez for help...</td>\n",
       "      <td>0.5875</td>\n",
       "      <td>0.875000</td>\n",
       "      <td>positive</td>\n",
       "    </tr>\n",
       "    <tr>\n",
       "      <th>29</th>\n",
       "      <td>2019-12-18 20:04:05</td>\n",
       "      <td>b'We stand with @HouseDemocrats. #DefendOurDem...</td>\n",
       "      <td>0.0000</td>\n",
       "      <td>0.000000</td>\n",
       "      <td>neutral</td>\n",
       "    </tr>\n",
       "    <tr>\n",
       "      <th>30</th>\n",
       "      <td>2019-12-18 19:00:08</td>\n",
       "      <td>b'Feels like a good day to check your voter re...</td>\n",
       "      <td>0.7000</td>\n",
       "      <td>0.600000</td>\n",
       "      <td>positive</td>\n",
       "    </tr>\n",
       "  </tbody>\n",
       "</table>\n",
       "</div>"
      ],
      "text/plain": [
       "             created_at                                               text  \\\n",
       "26  2019-12-18 23:16:05  b'Tomorrow is the 6\\xef\\xb8\\x8f\\xe2\\x83\\xa3th ...   \n",
       "27  2019-12-18 22:12:06  b'RT @HouseDemocrats: The facts are clear. You...   \n",
       "28  2019-12-18 21:08:05  b'We\\xe2\\x80\\x99re proud of @TomPerez for help...   \n",
       "29  2019-12-18 20:04:05  b'We stand with @HouseDemocrats. #DefendOurDem...   \n",
       "30  2019-12-18 19:00:08  b'Feels like a good day to check your voter re...   \n",
       "\n",
       "    polarity  subjectivity      tone  \n",
       "26    0.0000      0.000000   neutral  \n",
       "27    0.1000      0.383333  positive  \n",
       "28    0.5875      0.875000  positive  \n",
       "29    0.0000      0.000000   neutral  \n",
       "30    0.7000      0.600000  positive  "
      ]
     },
     "execution_count": 64,
     "metadata": {},
     "output_type": "execute_result"
    }
   ],
   "source": [
    "##SUBSETTING ACCORDING TO DAY OF IMPEACHMENT\n",
    "img=gop[94:130]\n",
    "imd=dems[26:38]\n",
    "\n",
    "img.head()\n",
    "imd.head()"
   ]
  },
  {
   "cell_type": "code",
   "execution_count": 65,
   "metadata": {},
   "outputs": [
    {
     "data": {
      "application/vnd.plotly.v1+json": {
       "config": {
        "plotlyServerURL": "https://plot.ly"
       },
       "data": [
        {
         "marker": {
          "color": "firebrick"
         },
         "name": "GOP",
         "type": "histogram",
         "x": [
          "neutral",
          "positive",
          "neutral",
          "neutral",
          "neutral",
          "neutral",
          "neutral",
          "negative",
          "neutral",
          "neutral",
          "negative",
          "positive",
          "neutral",
          "negative",
          "negative",
          "negative",
          "neutral",
          "negative",
          "neutral",
          "negative",
          "neutral",
          "neutral",
          "neutral",
          "neutral",
          "neutral",
          "negative",
          "neutral",
          "positive",
          "positive",
          "negative",
          "negative",
          "neutral",
          "negative",
          "negative",
          "neutral",
          "positive"
         ]
        },
        {
         "marker": {
          "color": "dodgerblue"
         },
         "name": "Democrats",
         "type": "histogram",
         "x": [
          "neutral",
          "positive",
          "positive",
          "neutral",
          "positive",
          "neutral",
          "positive",
          "neutral",
          "neutral",
          "positive",
          "neutral",
          "negative"
         ]
        }
       ],
       "layout": {
        "template": {
         "data": {
          "bar": [
           {
            "error_x": {
             "color": "#2a3f5f"
            },
            "error_y": {
             "color": "#2a3f5f"
            },
            "marker": {
             "line": {
              "color": "#E5ECF6",
              "width": 0.5
             }
            },
            "type": "bar"
           }
          ],
          "barpolar": [
           {
            "marker": {
             "line": {
              "color": "#E5ECF6",
              "width": 0.5
             }
            },
            "type": "barpolar"
           }
          ],
          "carpet": [
           {
            "aaxis": {
             "endlinecolor": "#2a3f5f",
             "gridcolor": "white",
             "linecolor": "white",
             "minorgridcolor": "white",
             "startlinecolor": "#2a3f5f"
            },
            "baxis": {
             "endlinecolor": "#2a3f5f",
             "gridcolor": "white",
             "linecolor": "white",
             "minorgridcolor": "white",
             "startlinecolor": "#2a3f5f"
            },
            "type": "carpet"
           }
          ],
          "choropleth": [
           {
            "colorbar": {
             "outlinewidth": 0,
             "ticks": ""
            },
            "type": "choropleth"
           }
          ],
          "contour": [
           {
            "colorbar": {
             "outlinewidth": 0,
             "ticks": ""
            },
            "colorscale": [
             [
              0,
              "#0d0887"
             ],
             [
              0.1111111111111111,
              "#46039f"
             ],
             [
              0.2222222222222222,
              "#7201a8"
             ],
             [
              0.3333333333333333,
              "#9c179e"
             ],
             [
              0.4444444444444444,
              "#bd3786"
             ],
             [
              0.5555555555555556,
              "#d8576b"
             ],
             [
              0.6666666666666666,
              "#ed7953"
             ],
             [
              0.7777777777777778,
              "#fb9f3a"
             ],
             [
              0.8888888888888888,
              "#fdca26"
             ],
             [
              1,
              "#f0f921"
             ]
            ],
            "type": "contour"
           }
          ],
          "contourcarpet": [
           {
            "colorbar": {
             "outlinewidth": 0,
             "ticks": ""
            },
            "type": "contourcarpet"
           }
          ],
          "heatmap": [
           {
            "colorbar": {
             "outlinewidth": 0,
             "ticks": ""
            },
            "colorscale": [
             [
              0,
              "#0d0887"
             ],
             [
              0.1111111111111111,
              "#46039f"
             ],
             [
              0.2222222222222222,
              "#7201a8"
             ],
             [
              0.3333333333333333,
              "#9c179e"
             ],
             [
              0.4444444444444444,
              "#bd3786"
             ],
             [
              0.5555555555555556,
              "#d8576b"
             ],
             [
              0.6666666666666666,
              "#ed7953"
             ],
             [
              0.7777777777777778,
              "#fb9f3a"
             ],
             [
              0.8888888888888888,
              "#fdca26"
             ],
             [
              1,
              "#f0f921"
             ]
            ],
            "type": "heatmap"
           }
          ],
          "heatmapgl": [
           {
            "colorbar": {
             "outlinewidth": 0,
             "ticks": ""
            },
            "colorscale": [
             [
              0,
              "#0d0887"
             ],
             [
              0.1111111111111111,
              "#46039f"
             ],
             [
              0.2222222222222222,
              "#7201a8"
             ],
             [
              0.3333333333333333,
              "#9c179e"
             ],
             [
              0.4444444444444444,
              "#bd3786"
             ],
             [
              0.5555555555555556,
              "#d8576b"
             ],
             [
              0.6666666666666666,
              "#ed7953"
             ],
             [
              0.7777777777777778,
              "#fb9f3a"
             ],
             [
              0.8888888888888888,
              "#fdca26"
             ],
             [
              1,
              "#f0f921"
             ]
            ],
            "type": "heatmapgl"
           }
          ],
          "histogram": [
           {
            "marker": {
             "colorbar": {
              "outlinewidth": 0,
              "ticks": ""
             }
            },
            "type": "histogram"
           }
          ],
          "histogram2d": [
           {
            "colorbar": {
             "outlinewidth": 0,
             "ticks": ""
            },
            "colorscale": [
             [
              0,
              "#0d0887"
             ],
             [
              0.1111111111111111,
              "#46039f"
             ],
             [
              0.2222222222222222,
              "#7201a8"
             ],
             [
              0.3333333333333333,
              "#9c179e"
             ],
             [
              0.4444444444444444,
              "#bd3786"
             ],
             [
              0.5555555555555556,
              "#d8576b"
             ],
             [
              0.6666666666666666,
              "#ed7953"
             ],
             [
              0.7777777777777778,
              "#fb9f3a"
             ],
             [
              0.8888888888888888,
              "#fdca26"
             ],
             [
              1,
              "#f0f921"
             ]
            ],
            "type": "histogram2d"
           }
          ],
          "histogram2dcontour": [
           {
            "colorbar": {
             "outlinewidth": 0,
             "ticks": ""
            },
            "colorscale": [
             [
              0,
              "#0d0887"
             ],
             [
              0.1111111111111111,
              "#46039f"
             ],
             [
              0.2222222222222222,
              "#7201a8"
             ],
             [
              0.3333333333333333,
              "#9c179e"
             ],
             [
              0.4444444444444444,
              "#bd3786"
             ],
             [
              0.5555555555555556,
              "#d8576b"
             ],
             [
              0.6666666666666666,
              "#ed7953"
             ],
             [
              0.7777777777777778,
              "#fb9f3a"
             ],
             [
              0.8888888888888888,
              "#fdca26"
             ],
             [
              1,
              "#f0f921"
             ]
            ],
            "type": "histogram2dcontour"
           }
          ],
          "mesh3d": [
           {
            "colorbar": {
             "outlinewidth": 0,
             "ticks": ""
            },
            "type": "mesh3d"
           }
          ],
          "parcoords": [
           {
            "line": {
             "colorbar": {
              "outlinewidth": 0,
              "ticks": ""
             }
            },
            "type": "parcoords"
           }
          ],
          "pie": [
           {
            "automargin": true,
            "type": "pie"
           }
          ],
          "scatter": [
           {
            "marker": {
             "colorbar": {
              "outlinewidth": 0,
              "ticks": ""
             }
            },
            "type": "scatter"
           }
          ],
          "scatter3d": [
           {
            "line": {
             "colorbar": {
              "outlinewidth": 0,
              "ticks": ""
             }
            },
            "marker": {
             "colorbar": {
              "outlinewidth": 0,
              "ticks": ""
             }
            },
            "type": "scatter3d"
           }
          ],
          "scattercarpet": [
           {
            "marker": {
             "colorbar": {
              "outlinewidth": 0,
              "ticks": ""
             }
            },
            "type": "scattercarpet"
           }
          ],
          "scattergeo": [
           {
            "marker": {
             "colorbar": {
              "outlinewidth": 0,
              "ticks": ""
             }
            },
            "type": "scattergeo"
           }
          ],
          "scattergl": [
           {
            "marker": {
             "colorbar": {
              "outlinewidth": 0,
              "ticks": ""
             }
            },
            "type": "scattergl"
           }
          ],
          "scattermapbox": [
           {
            "marker": {
             "colorbar": {
              "outlinewidth": 0,
              "ticks": ""
             }
            },
            "type": "scattermapbox"
           }
          ],
          "scatterpolar": [
           {
            "marker": {
             "colorbar": {
              "outlinewidth": 0,
              "ticks": ""
             }
            },
            "type": "scatterpolar"
           }
          ],
          "scatterpolargl": [
           {
            "marker": {
             "colorbar": {
              "outlinewidth": 0,
              "ticks": ""
             }
            },
            "type": "scatterpolargl"
           }
          ],
          "scatterternary": [
           {
            "marker": {
             "colorbar": {
              "outlinewidth": 0,
              "ticks": ""
             }
            },
            "type": "scatterternary"
           }
          ],
          "surface": [
           {
            "colorbar": {
             "outlinewidth": 0,
             "ticks": ""
            },
            "colorscale": [
             [
              0,
              "#0d0887"
             ],
             [
              0.1111111111111111,
              "#46039f"
             ],
             [
              0.2222222222222222,
              "#7201a8"
             ],
             [
              0.3333333333333333,
              "#9c179e"
             ],
             [
              0.4444444444444444,
              "#bd3786"
             ],
             [
              0.5555555555555556,
              "#d8576b"
             ],
             [
              0.6666666666666666,
              "#ed7953"
             ],
             [
              0.7777777777777778,
              "#fb9f3a"
             ],
             [
              0.8888888888888888,
              "#fdca26"
             ],
             [
              1,
              "#f0f921"
             ]
            ],
            "type": "surface"
           }
          ],
          "table": [
           {
            "cells": {
             "fill": {
              "color": "#EBF0F8"
             },
             "line": {
              "color": "white"
             }
            },
            "header": {
             "fill": {
              "color": "#C8D4E3"
             },
             "line": {
              "color": "white"
             }
            },
            "type": "table"
           }
          ]
         },
         "layout": {
          "annotationdefaults": {
           "arrowcolor": "#2a3f5f",
           "arrowhead": 0,
           "arrowwidth": 1
          },
          "coloraxis": {
           "colorbar": {
            "outlinewidth": 0,
            "ticks": ""
           }
          },
          "colorscale": {
           "diverging": [
            [
             0,
             "#8e0152"
            ],
            [
             0.1,
             "#c51b7d"
            ],
            [
             0.2,
             "#de77ae"
            ],
            [
             0.3,
             "#f1b6da"
            ],
            [
             0.4,
             "#fde0ef"
            ],
            [
             0.5,
             "#f7f7f7"
            ],
            [
             0.6,
             "#e6f5d0"
            ],
            [
             0.7,
             "#b8e186"
            ],
            [
             0.8,
             "#7fbc41"
            ],
            [
             0.9,
             "#4d9221"
            ],
            [
             1,
             "#276419"
            ]
           ],
           "sequential": [
            [
             0,
             "#0d0887"
            ],
            [
             0.1111111111111111,
             "#46039f"
            ],
            [
             0.2222222222222222,
             "#7201a8"
            ],
            [
             0.3333333333333333,
             "#9c179e"
            ],
            [
             0.4444444444444444,
             "#bd3786"
            ],
            [
             0.5555555555555556,
             "#d8576b"
            ],
            [
             0.6666666666666666,
             "#ed7953"
            ],
            [
             0.7777777777777778,
             "#fb9f3a"
            ],
            [
             0.8888888888888888,
             "#fdca26"
            ],
            [
             1,
             "#f0f921"
            ]
           ],
           "sequentialminus": [
            [
             0,
             "#0d0887"
            ],
            [
             0.1111111111111111,
             "#46039f"
            ],
            [
             0.2222222222222222,
             "#7201a8"
            ],
            [
             0.3333333333333333,
             "#9c179e"
            ],
            [
             0.4444444444444444,
             "#bd3786"
            ],
            [
             0.5555555555555556,
             "#d8576b"
            ],
            [
             0.6666666666666666,
             "#ed7953"
            ],
            [
             0.7777777777777778,
             "#fb9f3a"
            ],
            [
             0.8888888888888888,
             "#fdca26"
            ],
            [
             1,
             "#f0f921"
            ]
           ]
          },
          "colorway": [
           "#636efa",
           "#EF553B",
           "#00cc96",
           "#ab63fa",
           "#FFA15A",
           "#19d3f3",
           "#FF6692",
           "#B6E880",
           "#FF97FF",
           "#FECB52"
          ],
          "font": {
           "color": "#2a3f5f"
          },
          "geo": {
           "bgcolor": "white",
           "lakecolor": "white",
           "landcolor": "#E5ECF6",
           "showlakes": true,
           "showland": true,
           "subunitcolor": "white"
          },
          "hoverlabel": {
           "align": "left"
          },
          "hovermode": "closest",
          "mapbox": {
           "style": "light"
          },
          "paper_bgcolor": "white",
          "plot_bgcolor": "#E5ECF6",
          "polar": {
           "angularaxis": {
            "gridcolor": "white",
            "linecolor": "white",
            "ticks": ""
           },
           "bgcolor": "#E5ECF6",
           "radialaxis": {
            "gridcolor": "white",
            "linecolor": "white",
            "ticks": ""
           }
          },
          "scene": {
           "xaxis": {
            "backgroundcolor": "#E5ECF6",
            "gridcolor": "white",
            "gridwidth": 2,
            "linecolor": "white",
            "showbackground": true,
            "ticks": "",
            "zerolinecolor": "white"
           },
           "yaxis": {
            "backgroundcolor": "#E5ECF6",
            "gridcolor": "white",
            "gridwidth": 2,
            "linecolor": "white",
            "showbackground": true,
            "ticks": "",
            "zerolinecolor": "white"
           },
           "zaxis": {
            "backgroundcolor": "#E5ECF6",
            "gridcolor": "white",
            "gridwidth": 2,
            "linecolor": "white",
            "showbackground": true,
            "ticks": "",
            "zerolinecolor": "white"
           }
          },
          "shapedefaults": {
           "line": {
            "color": "#2a3f5f"
           }
          },
          "ternary": {
           "aaxis": {
            "gridcolor": "white",
            "linecolor": "white",
            "ticks": ""
           },
           "baxis": {
            "gridcolor": "white",
            "linecolor": "white",
            "ticks": ""
           },
           "bgcolor": "#E5ECF6",
           "caxis": {
            "gridcolor": "white",
            "linecolor": "white",
            "ticks": ""
           }
          },
          "title": {
           "x": 0.05
          },
          "xaxis": {
           "automargin": true,
           "gridcolor": "white",
           "linecolor": "white",
           "ticks": "",
           "title": {
            "standoff": 15
           },
           "zerolinecolor": "white",
           "zerolinewidth": 2
          },
          "yaxis": {
           "automargin": true,
           "gridcolor": "white",
           "linecolor": "white",
           "ticks": "",
           "title": {
            "standoff": 15
           },
           "zerolinecolor": "white",
           "zerolinewidth": 2
          }
         }
        },
        "title": {
         "text": "Impeachment Tone Distributon"
        },
        "xaxis": {
         "title": {
          "text": "Tone"
         }
        },
        "yaxis": {
         "title": {
          "text": "Count"
         }
        }
       }
      },
      "text/html": [
       "<div>\n",
       "        \n",
       "        \n",
       "            <div id=\"082be870-f3c3-4598-b121-fe9126143559\" class=\"plotly-graph-div\" style=\"height:525px; width:100%;\"></div>\n",
       "            <script type=\"text/javascript\">\n",
       "                require([\"plotly\"], function(Plotly) {\n",
       "                    window.PLOTLYENV=window.PLOTLYENV || {};\n",
       "                    \n",
       "                if (document.getElementById(\"082be870-f3c3-4598-b121-fe9126143559\")) {\n",
       "                    Plotly.newPlot(\n",
       "                        '082be870-f3c3-4598-b121-fe9126143559',\n",
       "                        [{\"marker\": {\"color\": \"firebrick\"}, \"name\": \"GOP\", \"type\": \"histogram\", \"x\": [\"neutral\", \"positive\", \"neutral\", \"neutral\", \"neutral\", \"neutral\", \"neutral\", \"negative\", \"neutral\", \"neutral\", \"negative\", \"positive\", \"neutral\", \"negative\", \"negative\", \"negative\", \"neutral\", \"negative\", \"neutral\", \"negative\", \"neutral\", \"neutral\", \"neutral\", \"neutral\", \"neutral\", \"negative\", \"neutral\", \"positive\", \"positive\", \"negative\", \"negative\", \"neutral\", \"negative\", \"negative\", \"neutral\", \"positive\"]}, {\"marker\": {\"color\": \"dodgerblue\"}, \"name\": \"Democrats\", \"type\": \"histogram\", \"x\": [\"neutral\", \"positive\", \"positive\", \"neutral\", \"positive\", \"neutral\", \"positive\", \"neutral\", \"neutral\", \"positive\", \"neutral\", \"negative\"]}],\n",
       "                        {\"template\": {\"data\": {\"bar\": [{\"error_x\": {\"color\": \"#2a3f5f\"}, \"error_y\": {\"color\": \"#2a3f5f\"}, \"marker\": {\"line\": {\"color\": \"#E5ECF6\", \"width\": 0.5}}, \"type\": \"bar\"}], \"barpolar\": [{\"marker\": {\"line\": {\"color\": \"#E5ECF6\", \"width\": 0.5}}, \"type\": \"barpolar\"}], \"carpet\": [{\"aaxis\": {\"endlinecolor\": \"#2a3f5f\", \"gridcolor\": \"white\", \"linecolor\": \"white\", \"minorgridcolor\": \"white\", \"startlinecolor\": \"#2a3f5f\"}, \"baxis\": {\"endlinecolor\": \"#2a3f5f\", \"gridcolor\": \"white\", \"linecolor\": \"white\", \"minorgridcolor\": \"white\", \"startlinecolor\": \"#2a3f5f\"}, \"type\": \"carpet\"}], \"choropleth\": [{\"colorbar\": {\"outlinewidth\": 0, \"ticks\": \"\"}, \"type\": \"choropleth\"}], \"contour\": [{\"colorbar\": {\"outlinewidth\": 0, \"ticks\": \"\"}, \"colorscale\": [[0.0, \"#0d0887\"], [0.1111111111111111, \"#46039f\"], [0.2222222222222222, \"#7201a8\"], [0.3333333333333333, \"#9c179e\"], [0.4444444444444444, \"#bd3786\"], [0.5555555555555556, \"#d8576b\"], [0.6666666666666666, \"#ed7953\"], [0.7777777777777778, \"#fb9f3a\"], [0.8888888888888888, \"#fdca26\"], [1.0, \"#f0f921\"]], \"type\": \"contour\"}], \"contourcarpet\": [{\"colorbar\": {\"outlinewidth\": 0, \"ticks\": \"\"}, \"type\": \"contourcarpet\"}], \"heatmap\": [{\"colorbar\": {\"outlinewidth\": 0, \"ticks\": \"\"}, \"colorscale\": [[0.0, \"#0d0887\"], [0.1111111111111111, \"#46039f\"], [0.2222222222222222, \"#7201a8\"], [0.3333333333333333, \"#9c179e\"], [0.4444444444444444, \"#bd3786\"], [0.5555555555555556, \"#d8576b\"], [0.6666666666666666, \"#ed7953\"], [0.7777777777777778, \"#fb9f3a\"], [0.8888888888888888, \"#fdca26\"], [1.0, \"#f0f921\"]], \"type\": \"heatmap\"}], \"heatmapgl\": [{\"colorbar\": {\"outlinewidth\": 0, \"ticks\": \"\"}, \"colorscale\": [[0.0, \"#0d0887\"], [0.1111111111111111, \"#46039f\"], [0.2222222222222222, \"#7201a8\"], [0.3333333333333333, \"#9c179e\"], [0.4444444444444444, \"#bd3786\"], [0.5555555555555556, \"#d8576b\"], [0.6666666666666666, \"#ed7953\"], [0.7777777777777778, \"#fb9f3a\"], [0.8888888888888888, \"#fdca26\"], [1.0, \"#f0f921\"]], \"type\": \"heatmapgl\"}], \"histogram\": [{\"marker\": {\"colorbar\": {\"outlinewidth\": 0, \"ticks\": \"\"}}, \"type\": \"histogram\"}], \"histogram2d\": [{\"colorbar\": {\"outlinewidth\": 0, \"ticks\": \"\"}, \"colorscale\": [[0.0, \"#0d0887\"], [0.1111111111111111, \"#46039f\"], [0.2222222222222222, \"#7201a8\"], [0.3333333333333333, \"#9c179e\"], [0.4444444444444444, \"#bd3786\"], [0.5555555555555556, \"#d8576b\"], [0.6666666666666666, \"#ed7953\"], [0.7777777777777778, \"#fb9f3a\"], [0.8888888888888888, \"#fdca26\"], [1.0, \"#f0f921\"]], \"type\": \"histogram2d\"}], \"histogram2dcontour\": [{\"colorbar\": {\"outlinewidth\": 0, \"ticks\": \"\"}, \"colorscale\": [[0.0, \"#0d0887\"], [0.1111111111111111, \"#46039f\"], [0.2222222222222222, \"#7201a8\"], [0.3333333333333333, \"#9c179e\"], [0.4444444444444444, \"#bd3786\"], [0.5555555555555556, \"#d8576b\"], [0.6666666666666666, \"#ed7953\"], [0.7777777777777778, \"#fb9f3a\"], [0.8888888888888888, \"#fdca26\"], [1.0, \"#f0f921\"]], \"type\": \"histogram2dcontour\"}], \"mesh3d\": [{\"colorbar\": {\"outlinewidth\": 0, \"ticks\": \"\"}, \"type\": \"mesh3d\"}], \"parcoords\": [{\"line\": {\"colorbar\": {\"outlinewidth\": 0, \"ticks\": \"\"}}, \"type\": \"parcoords\"}], \"pie\": [{\"automargin\": true, \"type\": \"pie\"}], \"scatter\": [{\"marker\": {\"colorbar\": {\"outlinewidth\": 0, \"ticks\": \"\"}}, \"type\": \"scatter\"}], \"scatter3d\": [{\"line\": {\"colorbar\": {\"outlinewidth\": 0, \"ticks\": \"\"}}, \"marker\": {\"colorbar\": {\"outlinewidth\": 0, \"ticks\": \"\"}}, \"type\": \"scatter3d\"}], \"scattercarpet\": [{\"marker\": {\"colorbar\": {\"outlinewidth\": 0, \"ticks\": \"\"}}, \"type\": \"scattercarpet\"}], \"scattergeo\": [{\"marker\": {\"colorbar\": {\"outlinewidth\": 0, \"ticks\": \"\"}}, \"type\": \"scattergeo\"}], \"scattergl\": [{\"marker\": {\"colorbar\": {\"outlinewidth\": 0, \"ticks\": \"\"}}, \"type\": \"scattergl\"}], \"scattermapbox\": [{\"marker\": {\"colorbar\": {\"outlinewidth\": 0, \"ticks\": \"\"}}, \"type\": \"scattermapbox\"}], \"scatterpolar\": [{\"marker\": {\"colorbar\": {\"outlinewidth\": 0, \"ticks\": \"\"}}, \"type\": \"scatterpolar\"}], \"scatterpolargl\": [{\"marker\": {\"colorbar\": {\"outlinewidth\": 0, \"ticks\": \"\"}}, \"type\": \"scatterpolargl\"}], \"scatterternary\": [{\"marker\": {\"colorbar\": {\"outlinewidth\": 0, \"ticks\": \"\"}}, \"type\": \"scatterternary\"}], \"surface\": [{\"colorbar\": {\"outlinewidth\": 0, \"ticks\": \"\"}, \"colorscale\": [[0.0, \"#0d0887\"], [0.1111111111111111, \"#46039f\"], [0.2222222222222222, \"#7201a8\"], [0.3333333333333333, \"#9c179e\"], [0.4444444444444444, \"#bd3786\"], [0.5555555555555556, \"#d8576b\"], [0.6666666666666666, \"#ed7953\"], [0.7777777777777778, \"#fb9f3a\"], [0.8888888888888888, \"#fdca26\"], [1.0, \"#f0f921\"]], \"type\": \"surface\"}], \"table\": [{\"cells\": {\"fill\": {\"color\": \"#EBF0F8\"}, \"line\": {\"color\": \"white\"}}, \"header\": {\"fill\": {\"color\": \"#C8D4E3\"}, \"line\": {\"color\": \"white\"}}, \"type\": \"table\"}]}, \"layout\": {\"annotationdefaults\": {\"arrowcolor\": \"#2a3f5f\", \"arrowhead\": 0, \"arrowwidth\": 1}, \"coloraxis\": {\"colorbar\": {\"outlinewidth\": 0, \"ticks\": \"\"}}, \"colorscale\": {\"diverging\": [[0, \"#8e0152\"], [0.1, \"#c51b7d\"], [0.2, \"#de77ae\"], [0.3, \"#f1b6da\"], [0.4, \"#fde0ef\"], [0.5, \"#f7f7f7\"], [0.6, \"#e6f5d0\"], [0.7, \"#b8e186\"], [0.8, \"#7fbc41\"], [0.9, \"#4d9221\"], [1, \"#276419\"]], \"sequential\": [[0.0, \"#0d0887\"], [0.1111111111111111, \"#46039f\"], [0.2222222222222222, \"#7201a8\"], [0.3333333333333333, \"#9c179e\"], [0.4444444444444444, \"#bd3786\"], [0.5555555555555556, \"#d8576b\"], [0.6666666666666666, \"#ed7953\"], [0.7777777777777778, \"#fb9f3a\"], [0.8888888888888888, \"#fdca26\"], [1.0, \"#f0f921\"]], \"sequentialminus\": [[0.0, \"#0d0887\"], [0.1111111111111111, \"#46039f\"], [0.2222222222222222, \"#7201a8\"], [0.3333333333333333, \"#9c179e\"], [0.4444444444444444, \"#bd3786\"], [0.5555555555555556, \"#d8576b\"], [0.6666666666666666, \"#ed7953\"], [0.7777777777777778, \"#fb9f3a\"], [0.8888888888888888, \"#fdca26\"], [1.0, \"#f0f921\"]]}, \"colorway\": [\"#636efa\", \"#EF553B\", \"#00cc96\", \"#ab63fa\", \"#FFA15A\", \"#19d3f3\", \"#FF6692\", \"#B6E880\", \"#FF97FF\", \"#FECB52\"], \"font\": {\"color\": \"#2a3f5f\"}, \"geo\": {\"bgcolor\": \"white\", \"lakecolor\": \"white\", \"landcolor\": \"#E5ECF6\", \"showlakes\": true, \"showland\": true, \"subunitcolor\": \"white\"}, \"hoverlabel\": {\"align\": \"left\"}, \"hovermode\": \"closest\", \"mapbox\": {\"style\": \"light\"}, \"paper_bgcolor\": \"white\", \"plot_bgcolor\": \"#E5ECF6\", \"polar\": {\"angularaxis\": {\"gridcolor\": \"white\", \"linecolor\": \"white\", \"ticks\": \"\"}, \"bgcolor\": \"#E5ECF6\", \"radialaxis\": {\"gridcolor\": \"white\", \"linecolor\": \"white\", \"ticks\": \"\"}}, \"scene\": {\"xaxis\": {\"backgroundcolor\": \"#E5ECF6\", \"gridcolor\": \"white\", \"gridwidth\": 2, \"linecolor\": \"white\", \"showbackground\": true, \"ticks\": \"\", \"zerolinecolor\": \"white\"}, \"yaxis\": {\"backgroundcolor\": \"#E5ECF6\", \"gridcolor\": \"white\", \"gridwidth\": 2, \"linecolor\": \"white\", \"showbackground\": true, \"ticks\": \"\", \"zerolinecolor\": \"white\"}, \"zaxis\": {\"backgroundcolor\": \"#E5ECF6\", \"gridcolor\": \"white\", \"gridwidth\": 2, \"linecolor\": \"white\", \"showbackground\": true, \"ticks\": \"\", \"zerolinecolor\": \"white\"}}, \"shapedefaults\": {\"line\": {\"color\": \"#2a3f5f\"}}, \"ternary\": {\"aaxis\": {\"gridcolor\": \"white\", \"linecolor\": \"white\", \"ticks\": \"\"}, \"baxis\": {\"gridcolor\": \"white\", \"linecolor\": \"white\", \"ticks\": \"\"}, \"bgcolor\": \"#E5ECF6\", \"caxis\": {\"gridcolor\": \"white\", \"linecolor\": \"white\", \"ticks\": \"\"}}, \"title\": {\"x\": 0.05}, \"xaxis\": {\"automargin\": true, \"gridcolor\": \"white\", \"linecolor\": \"white\", \"ticks\": \"\", \"title\": {\"standoff\": 15}, \"zerolinecolor\": \"white\", \"zerolinewidth\": 2}, \"yaxis\": {\"automargin\": true, \"gridcolor\": \"white\", \"linecolor\": \"white\", \"ticks\": \"\", \"title\": {\"standoff\": 15}, \"zerolinecolor\": \"white\", \"zerolinewidth\": 2}}}, \"title\": {\"text\": \"Impeachment Tone Distributon\"}, \"xaxis\": {\"title\": {\"text\": \"Tone\"}}, \"yaxis\": {\"title\": {\"text\": \"Count\"}}},\n",
       "                        {\"responsive\": true}\n",
       "                    ).then(function(){\n",
       "                            \n",
       "var gd = document.getElementById('082be870-f3c3-4598-b121-fe9126143559');\n",
       "var x = new MutationObserver(function (mutations, observer) {{\n",
       "        var display = window.getComputedStyle(gd).display;\n",
       "        if (!display || display === 'none') {{\n",
       "            console.log([gd, 'removed!']);\n",
       "            Plotly.purge(gd);\n",
       "            observer.disconnect();\n",
       "        }}\n",
       "}});\n",
       "\n",
       "// Listen for the removal of the full notebook cells\n",
       "var notebookContainer = gd.closest('#notebook-container');\n",
       "if (notebookContainer) {{\n",
       "    x.observe(notebookContainer, {childList: true});\n",
       "}}\n",
       "\n",
       "// Listen for the clearing of the current output cell\n",
       "var outputEl = gd.closest('.output');\n",
       "if (outputEl) {{\n",
       "    x.observe(outputEl, {childList: true});\n",
       "}}\n",
       "\n",
       "                        })\n",
       "                };\n",
       "                });\n",
       "            </script>\n",
       "        </div>"
      ]
     },
     "metadata": {},
     "output_type": "display_data"
    }
   ],
   "source": [
    "#creating histograms of GOP and Democrat tones\n",
    "fig = go.Figure()\n",
    "fig.add_trace(go.Histogram(x=img['tone'], name='GOP', marker_color='firebrick'))\n",
    "fig.add_trace(go.Histogram(x=imd['tone'], name='Democrats', marker_color='dodgerblue'))\n",
    "\n",
    "#putting histograms together\n",
    "fig.update_layout(title_text='Impeachment Tone Distributon',\n",
    "                  xaxis_title_text='Tone',\n",
    "                  yaxis_title_text='Count')\n",
    "fig.show()\n"
   ]
  },
  {
   "cell_type": "markdown",
   "metadata": {},
   "source": [
    "**Figure 7**\n",
    "\n",
    "In the above figure, we can see a general breakdown of the tones used by each political party on the day of the impeachment. It is clear that the GOP (the party of the impeached president) had far more tweets with negative language, 12, than the Democrats, just 1. This is in line with expectations given the Republican/GOP's official view that the impeachment is uncalled for. Additionally, it should be noted that each party had the same number of positive tweets concerning the impeachment, 5, which goes against immediate assumptions that the Democrats would meet the news with more positivity than the Republicans. However, perhaps a reason for this equality is that the Republicans responded to the news, at times, by highlighting what they view as positive effects of Trump's presidency, and thereby using language that would have a high polarity score and thus convey a positive tone. It is also important to mention that the GOP has a much higher number of neutral tweets than the Democrats, 19 to 6.\n",
    "\n",
    "As the GOP has a much higher number of tweets than the Democrats from this day, (36 compared to 12), it is also worth examining the tone of the tweets by percentages:\n",
    "\n",
    "#### GOP:\n",
    "* 33% negative\n",
    "* 13.88% positive\n",
    "* 52.77% neutral\n",
    "\n",
    "#### Democrat:\n",
    "* 8.33% negative\n",
    "* 41.66% positive\n",
    "* 50% neutral\n",
    "\n",
    "In this way, we can see that the GOP still has a much larger proportion of negative tweets than the Democrats, while the Democrats have much more positive tweets relatively speaking. As such, this corroborates the expectation that the GOP had a much more negative reaction to the impeachment news than the Democrats, while the latter hailed the news. An unexpected part of the results, however, was the sizable number of neutral tweets from both parties. I was expecting a fairly split analysis whereby over 50% of the GOP's tweets would be negative, while over 50% of the Democrats' tweets would be positive. Instead, each party has a healthly amount of neutral and even positive and negative tweets; thus suggesting that the response, though polarized, was not as completely polarized as expected.\n"
   ]
  },
  {
   "cell_type": "markdown",
   "metadata": {},
   "source": [
    "## Part 3: Conclusions\n"
   ]
  },
  {
   "cell_type": "markdown",
   "metadata": {},
   "source": [
    "With respect to the original research questions regarding intercommunication among Americans of different geographic backgrounds, it seems that there is some occurring within the current political discourse. In the #ImmigrationReform discussion, individuals from various different regions in the U.S. contributed their thoughts, though some areas closer to borders and larger cities seemed to do so to a larger degree. However, that latter element could be influenced by the demographics of Twitter which would naturally have more users, and thereby potential conversationalists, in more populated areas. Additionally, the sentiment of the discussion was more positive in New England and the South than other areas, while the West Coast was the most negative, proportionally speaking. \n",
    "\n",
    "As for the official tweets by the Democrats and Republicans surrouding the day of impeachment, the latter had a much higher proportion of negative tweets (33%) compared to the Democrats at 8.33%. While the Democrats had a higher level of positive tweets at 41.66% than the Republicans at 13.88%. Both of which follow expectations as the Republicans are the party of the impeached president, and therefore have a more negative view of the news, while the Democrats were pushing for the impeachment and thus were more positive.\n",
    "\n",
    "Though the study does accumulate some understanding of intercommunication and diversity, geographically speaking, among Americans concerning the immigration reform debate, this is just the starting point of a larger analysis. Specifically, this work can be expanded on by examining the direct communication between individuals in differing locations through scraping their replies to one another with respect to immigration reform. Thus, a deeper analysis wherein an adjacency matrix is created showcasing the communication between particular cities is possible.\n",
    "\n",
    "It would also be interesting to analyze the tone used, with respect to immigration reform, on a different social media platform other than Twitter in order to study whether one site is considered more negative or positive than the other. Additionally, as I only examined one debate within American politics, (aside from the reaction to the impeachment announcement), it would be worthwhile to apply the same NLP analysis to another topic and examine whether immigration reform or the other is more divisive/negative in terms of tone."
   ]
  },
  {
   "cell_type": "markdown",
   "metadata": {},
   "source": [
    "## Citations\n",
    "\n",
    "\"A Python Script to Download all the Tweets of a Hashtag into a CSV\" (2017). Quian, Vicky. https://gist.github.com/vickyqian/f70e9ab3910c7c290d9d715491cde44c\n",
    "\n",
    "\"A Script to Download all of a User's Tweets into a CSV\" (2013). Yanofsky, David. https://gist.github.com/yanofsky/5436496 \n",
    "\n",
    "\"Percent Stacked Barplot\" (2017). Gaudard, Olivier. https://python-graph-gallery.com/13-percent-stacked-barplot/"
   ]
  },
  {
   "cell_type": "code",
   "execution_count": null,
   "metadata": {},
   "outputs": [],
   "source": []
  }
 ],
 "metadata": {
  "kernelspec": {
   "display_name": "Python 3",
   "language": "python",
   "name": "python3"
  },
  "language_info": {
   "codemirror_mode": {
    "name": "ipython",
    "version": 3
   },
   "file_extension": ".py",
   "mimetype": "text/x-python",
   "name": "python",
   "nbconvert_exporter": "python",
   "pygments_lexer": "ipython3",
   "version": "3.7.3"
  }
 },
 "nbformat": 4,
 "nbformat_minor": 2
}
